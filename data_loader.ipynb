{
 "cells": [
  {
   "metadata": {},
   "cell_type": "markdown",
   "source": "#### Imports",
   "id": "4c54d83181471c86"
  },
  {
   "metadata": {
    "ExecuteTime": {
     "end_time": "2025-06-21T12:48:27.456745Z",
     "start_time": "2025-06-21T12:48:26.401177Z"
    }
   },
   "cell_type": "code",
   "source": "import pandas as pd",
   "id": "83e8495b5e93dfb8",
   "outputs": [],
   "execution_count": 1
  },
  {
   "metadata": {},
   "cell_type": "markdown",
   "source": "#### Get data",
   "id": "68510a1ea7a64b58"
  },
  {
   "metadata": {
    "ExecuteTime": {
     "end_time": "2025-06-21T12:48:28.134942Z",
     "start_time": "2025-06-21T12:48:27.541248Z"
    }
   },
   "cell_type": "code",
   "source": "df = pd.read_excel(r\"C:\\Users\\ashis\\OneDrive\\Documents\\NIT Goa\\Consolidated_SGPA_CGPA_Report.xlsx\", sheet_name=\"Clean\")",
   "id": "d446983f23675c00",
   "outputs": [],
   "execution_count": 2
  },
  {
   "metadata": {
    "ExecuteTime": {
     "end_time": "2025-06-21T12:48:28.477790Z",
     "start_time": "2025-06-21T12:48:28.427295Z"
    }
   },
   "cell_type": "code",
   "source": "df.head()",
   "id": "d972c1308bb99c14",
   "outputs": [
    {
     "data": {
      "text/plain": [
       "     :Reg.No                 :Student Name  SGPA_1  CGPA_1  SGPA_2  CGPA_2  \\\n",
       "0  21CSE1001      ARADHANA DILIP CUNCOLCAR    7.45    7.45    7.05    7.26   \n",
       "1  21CSE1016  KETAN PURUSHOTTAM KUNKALIKAR    8.82    8.82    7.86    8.35   \n",
       "2  21CSE1023     NISCHAL GAJANAN PARULEKAR    8.55    8.55    7.10    7.84   \n",
       "3  21CSE1024      PERLI ARYAN NAGESWARARAO    7.64    7.64    6.62    7.14   \n",
       "4  21CSE1028                     RAJ GUPTA    8.23    8.23    8.14    8.19   \n",
       "\n",
       "   SGPA_3  CGPA_3  SGPA_4  CGPA_4  SGPA_5  CGPA_5  SGPA_6  CGPA_6  SGPA_7  \\\n",
       "0    6.67    7.06    6.70    6.98    7.33    7.05    6.80    7.00    7.59   \n",
       "1    7.67    8.13    7.90    8.07    7.71    8.00    6.35    7.74    7.71   \n",
       "2    7.00    7.56    7.60    7.32    6.67    7.39    7.15    7.35    8.05   \n",
       "3    7.62    7.30    7.40    7.32    7.05    7.27    7.35    7.28    7.82   \n",
       "4    7.43    7.94    7.95    7.94    7.43    7.84    7.45    7.78    8.05   \n",
       "\n",
       "   CGPA_7  SGPA_8  CGPA_8  \n",
       "0    7.09     NaN     NaN  \n",
       "1    8.00     NaN     NaN  \n",
       "2    7.54     NaN     NaN  \n",
       "3    7.36     NaN     NaN  \n",
       "4    7.82     NaN     NaN  "
      ],
      "text/html": [
       "<div>\n",
       "<style scoped>\n",
       "    .dataframe tbody tr th:only-of-type {\n",
       "        vertical-align: middle;\n",
       "    }\n",
       "\n",
       "    .dataframe tbody tr th {\n",
       "        vertical-align: top;\n",
       "    }\n",
       "\n",
       "    .dataframe thead th {\n",
       "        text-align: right;\n",
       "    }\n",
       "</style>\n",
       "<table border=\"1\" class=\"dataframe\">\n",
       "  <thead>\n",
       "    <tr style=\"text-align: right;\">\n",
       "      <th></th>\n",
       "      <th>:Reg.No</th>\n",
       "      <th>:Student Name</th>\n",
       "      <th>SGPA_1</th>\n",
       "      <th>CGPA_1</th>\n",
       "      <th>SGPA_2</th>\n",
       "      <th>CGPA_2</th>\n",
       "      <th>SGPA_3</th>\n",
       "      <th>CGPA_3</th>\n",
       "      <th>SGPA_4</th>\n",
       "      <th>CGPA_4</th>\n",
       "      <th>SGPA_5</th>\n",
       "      <th>CGPA_5</th>\n",
       "      <th>SGPA_6</th>\n",
       "      <th>CGPA_6</th>\n",
       "      <th>SGPA_7</th>\n",
       "      <th>CGPA_7</th>\n",
       "      <th>SGPA_8</th>\n",
       "      <th>CGPA_8</th>\n",
       "    </tr>\n",
       "  </thead>\n",
       "  <tbody>\n",
       "    <tr>\n",
       "      <th>0</th>\n",
       "      <td>21CSE1001</td>\n",
       "      <td>ARADHANA DILIP CUNCOLCAR</td>\n",
       "      <td>7.45</td>\n",
       "      <td>7.45</td>\n",
       "      <td>7.05</td>\n",
       "      <td>7.26</td>\n",
       "      <td>6.67</td>\n",
       "      <td>7.06</td>\n",
       "      <td>6.70</td>\n",
       "      <td>6.98</td>\n",
       "      <td>7.33</td>\n",
       "      <td>7.05</td>\n",
       "      <td>6.80</td>\n",
       "      <td>7.00</td>\n",
       "      <td>7.59</td>\n",
       "      <td>7.09</td>\n",
       "      <td>NaN</td>\n",
       "      <td>NaN</td>\n",
       "    </tr>\n",
       "    <tr>\n",
       "      <th>1</th>\n",
       "      <td>21CSE1016</td>\n",
       "      <td>KETAN PURUSHOTTAM KUNKALIKAR</td>\n",
       "      <td>8.82</td>\n",
       "      <td>8.82</td>\n",
       "      <td>7.86</td>\n",
       "      <td>8.35</td>\n",
       "      <td>7.67</td>\n",
       "      <td>8.13</td>\n",
       "      <td>7.90</td>\n",
       "      <td>8.07</td>\n",
       "      <td>7.71</td>\n",
       "      <td>8.00</td>\n",
       "      <td>6.35</td>\n",
       "      <td>7.74</td>\n",
       "      <td>7.71</td>\n",
       "      <td>8.00</td>\n",
       "      <td>NaN</td>\n",
       "      <td>NaN</td>\n",
       "    </tr>\n",
       "    <tr>\n",
       "      <th>2</th>\n",
       "      <td>21CSE1023</td>\n",
       "      <td>NISCHAL GAJANAN PARULEKAR</td>\n",
       "      <td>8.55</td>\n",
       "      <td>8.55</td>\n",
       "      <td>7.10</td>\n",
       "      <td>7.84</td>\n",
       "      <td>7.00</td>\n",
       "      <td>7.56</td>\n",
       "      <td>7.60</td>\n",
       "      <td>7.32</td>\n",
       "      <td>6.67</td>\n",
       "      <td>7.39</td>\n",
       "      <td>7.15</td>\n",
       "      <td>7.35</td>\n",
       "      <td>8.05</td>\n",
       "      <td>7.54</td>\n",
       "      <td>NaN</td>\n",
       "      <td>NaN</td>\n",
       "    </tr>\n",
       "    <tr>\n",
       "      <th>3</th>\n",
       "      <td>21CSE1024</td>\n",
       "      <td>PERLI ARYAN NAGESWARARAO</td>\n",
       "      <td>7.64</td>\n",
       "      <td>7.64</td>\n",
       "      <td>6.62</td>\n",
       "      <td>7.14</td>\n",
       "      <td>7.62</td>\n",
       "      <td>7.30</td>\n",
       "      <td>7.40</td>\n",
       "      <td>7.32</td>\n",
       "      <td>7.05</td>\n",
       "      <td>7.27</td>\n",
       "      <td>7.35</td>\n",
       "      <td>7.28</td>\n",
       "      <td>7.82</td>\n",
       "      <td>7.36</td>\n",
       "      <td>NaN</td>\n",
       "      <td>NaN</td>\n",
       "    </tr>\n",
       "    <tr>\n",
       "      <th>4</th>\n",
       "      <td>21CSE1028</td>\n",
       "      <td>RAJ GUPTA</td>\n",
       "      <td>8.23</td>\n",
       "      <td>8.23</td>\n",
       "      <td>8.14</td>\n",
       "      <td>8.19</td>\n",
       "      <td>7.43</td>\n",
       "      <td>7.94</td>\n",
       "      <td>7.95</td>\n",
       "      <td>7.94</td>\n",
       "      <td>7.43</td>\n",
       "      <td>7.84</td>\n",
       "      <td>7.45</td>\n",
       "      <td>7.78</td>\n",
       "      <td>8.05</td>\n",
       "      <td>7.82</td>\n",
       "      <td>NaN</td>\n",
       "      <td>NaN</td>\n",
       "    </tr>\n",
       "  </tbody>\n",
       "</table>\n",
       "</div>"
      ]
     },
     "execution_count": 3,
     "metadata": {},
     "output_type": "execute_result"
    }
   ],
   "execution_count": 3
  },
  {
   "metadata": {},
   "cell_type": "markdown",
   "source": "#### Clean data",
   "id": "b03c5681da6a4699"
  },
  {
   "metadata": {
    "ExecuteTime": {
     "end_time": "2025-06-21T12:48:28.924619Z",
     "start_time": "2025-06-21T12:48:28.912829Z"
    }
   },
   "cell_type": "code",
   "source": "df.columns = df.columns.str.replace(\":\", \"\")",
   "id": "cf2c63e46958c436",
   "outputs": [],
   "execution_count": 4
  },
  {
   "metadata": {
    "ExecuteTime": {
     "end_time": "2025-06-21T12:48:29.214992Z",
     "start_time": "2025-06-21T12:48:29.206204Z"
    }
   },
   "cell_type": "code",
   "source": "df.columns = df.columns.str.lower()",
   "id": "e44d15c5be51b142",
   "outputs": [],
   "execution_count": 5
  },
  {
   "metadata": {
    "ExecuteTime": {
     "end_time": "2025-06-21T12:48:29.568556Z",
     "start_time": "2025-06-21T12:48:29.559584Z"
    }
   },
   "cell_type": "code",
   "source": "df = df.sort_values(by='reg.no')",
   "id": "aafb37eeb184273e",
   "outputs": [],
   "execution_count": 6
  },
  {
   "metadata": {
    "ExecuteTime": {
     "end_time": "2025-06-21T12:48:29.659309Z",
     "start_time": "2025-06-21T12:48:29.648468Z"
    }
   },
   "cell_type": "code",
   "source": "sgpa = df[[\"reg.no\", \"student name\", \"sgpa_1\", \"sgpa_2\", \"sgpa_3\", \"sgpa_4\", \"sgpa_5\", \"sgpa_6\", \"sgpa_7\", \"sgpa_8\"]]",
   "id": "637d161b1f6b05b7",
   "outputs": [],
   "execution_count": 7
  },
  {
   "metadata": {
    "ExecuteTime": {
     "end_time": "2025-06-21T12:53:38.359571Z",
     "start_time": "2025-06-21T12:53:38.308668Z"
    }
   },
   "cell_type": "code",
   "source": "sgpa",
   "id": "2d137b8439a5b3c5",
   "outputs": [
    {
     "data": {
      "text/plain": [
       "       reg.no                     student name  sgpa_1  sgpa_2  sgpa_3  \\\n",
       "0   21CSE1001         ARADHANA DILIP CUNCOLCAR    7.45    7.05    6.67   \n",
       "9   21CSE1002                     ARIN RATHORE    9.68    9.43    9.52   \n",
       "17  21CSE1003             ASHISH SINGH CHAUHAN    9.00    8.29    8.57   \n",
       "22  21CSE1004                             ATUL    8.00    8.00    7.29   \n",
       "8   21CSE1005  BOGGARAPU VENKATA VAMSI KRISHNA    9.68    9.57    9.24   \n",
       "18  21CSE1006           DAKSHAL VINAYAK SHETYE    8.68    8.00    7.81   \n",
       "15  21CSE1007                    DEEKSHA YADAV    9.86    8.95    8.48   \n",
       "27  21CSE1009                       DIYA JOSHI    8.23    6.67    6.43   \n",
       "19  21CSE1013                     JOYAL JOSEPH    7.91    8.19    8.33   \n",
       "25  21CSE1014                        KARTHIK A    8.59    7.10    6.57   \n",
       "1   21CSE1016     KETAN PURUSHOTTAM KUNKALIKAR    8.82    7.86    7.67   \n",
       "16  21CSE1017                          M KAVYA    9.00    8.86    8.76   \n",
       "24  21CSE1018       MALLELA GANESH KUMAR REDDY    6.55    6.71    7.00   \n",
       "23  21CSE1021                         N YUVRAJ    6.91    7.76    7.95   \n",
       "2   21CSE1023        NISCHAL GAJANAN PARULEKAR    8.55    7.10    7.00   \n",
       "3   21CSE1024         PERLI ARYAN NAGESWARARAO    7.64    6.62    7.62   \n",
       "29  21CSE1025            POOJA RAMDAS SONAWANE    6.55    5.00    5.57   \n",
       "20  21CSE1026               PRATIK PRAVIN NAIK    7.27    8.43    8.62   \n",
       "4   21CSE1028                        RAJ GUPTA    8.23    8.14    7.43   \n",
       "21  21CSE1029                   RAJENDRA KUMAR    8.55    7.05    7.48   \n",
       "26  21CSE1031           SANKET SURAJ USGAONKAR    7.91    7.29    6.62   \n",
       "12  21CSE1033             SHRAVANI BIPIN PAWAR    9.50    8.67    8.95   \n",
       "5   21CSE1034           SHRUTI BALASAHEB PATIL    9.36    7.86    7.71   \n",
       "14  21CSE1036                       TUSHAR PAL    8.95    8.52    9.24   \n",
       "11  21CSE1038                    VAIBHAV YADAV    9.14    8.76    9.52   \n",
       "28  21CSE1040                    VISHAL PRATAP    8.09    6.67    6.62   \n",
       "7   21CSE1041                    ARUN UPADHYAY   10.00   10.00    9.62   \n",
       "10  21CSE1042          MORUSU GUNASEKHAR REDDY    9.43    9.23    9.29   \n",
       "13  21CSE1043                   AKASH ABHILASH    9.29    9.05    9.10   \n",
       "6   21CSE1044                ABHISHEK CHOUKUSE    9.55    8.76    9.10   \n",
       "\n",
       "    sgpa_4  sgpa_5  sgpa_6  sgpa_7  sgpa_8  \n",
       "0     6.70    7.33    6.80    7.59     NaN  \n",
       "9    10.00    8.90    9.40    9.68    9.17  \n",
       "17    9.10    8.00    7.55    8.59    8.83  \n",
       "22    8.35    7.38    7.35    8.23    7.67  \n",
       "8     9.85    9.10    9.60    9.68    9.83  \n",
       "18    8.55    8.48    8.20    8.41    7.50  \n",
       "15    9.00    8.38    8.20    8.86    9.00  \n",
       "27    7.45    6.62    6.54    7.91    8.33  \n",
       "19    8.20    7.62    7.60    7.95    8.50  \n",
       "25    7.70    7.52    7.10    8.14    8.50  \n",
       "1     7.90    7.71    6.35    7.71     NaN  \n",
       "16    8.85    8.62    8.41    9.00    8.67  \n",
       "24    8.10    7.95    7.97    8.64    8.67  \n",
       "23    8.00    8.29    7.11    8.05    7.83  \n",
       "2     7.60    6.67    7.15    8.05     NaN  \n",
       "3     7.40    7.05    7.35    7.82     NaN  \n",
       "29    5.45    5.95    8.27    6.68    7.43  \n",
       "20    8.25    7.86    7.31    7.91    8.50  \n",
       "4     7.95    7.43    7.45    8.05     NaN  \n",
       "21    7.65    7.10    7.50    8.23    9.17  \n",
       "26    7.45    7.62    7.08    8.18    7.83  \n",
       "12    9.30    9.71    9.00    9.36    9.67  \n",
       "5     7.80    7.71    7.80    8.91     NaN  \n",
       "14    8.95    8.76    8.55    9.05    9.17  \n",
       "11    9.75    9.43    9.30    9.91    9.50  \n",
       "28    6.60    6.71    6.32    7.36    6.83  \n",
       "7    10.00    9.90   10.00   10.00   10.00  \n",
       "10    9.60    9.29    9.79    9.45    9.67  \n",
       "13    8.95    9.10    9.00    9.14    9.50  \n",
       "6     9.45    8.90    8.65    9.68     NaN  "
      ],
      "text/html": [
       "<div>\n",
       "<style scoped>\n",
       "    .dataframe tbody tr th:only-of-type {\n",
       "        vertical-align: middle;\n",
       "    }\n",
       "\n",
       "    .dataframe tbody tr th {\n",
       "        vertical-align: top;\n",
       "    }\n",
       "\n",
       "    .dataframe thead th {\n",
       "        text-align: right;\n",
       "    }\n",
       "</style>\n",
       "<table border=\"1\" class=\"dataframe\">\n",
       "  <thead>\n",
       "    <tr style=\"text-align: right;\">\n",
       "      <th></th>\n",
       "      <th>reg.no</th>\n",
       "      <th>student name</th>\n",
       "      <th>sgpa_1</th>\n",
       "      <th>sgpa_2</th>\n",
       "      <th>sgpa_3</th>\n",
       "      <th>sgpa_4</th>\n",
       "      <th>sgpa_5</th>\n",
       "      <th>sgpa_6</th>\n",
       "      <th>sgpa_7</th>\n",
       "      <th>sgpa_8</th>\n",
       "    </tr>\n",
       "  </thead>\n",
       "  <tbody>\n",
       "    <tr>\n",
       "      <th>0</th>\n",
       "      <td>21CSE1001</td>\n",
       "      <td>ARADHANA DILIP CUNCOLCAR</td>\n",
       "      <td>7.45</td>\n",
       "      <td>7.05</td>\n",
       "      <td>6.67</td>\n",
       "      <td>6.70</td>\n",
       "      <td>7.33</td>\n",
       "      <td>6.80</td>\n",
       "      <td>7.59</td>\n",
       "      <td>NaN</td>\n",
       "    </tr>\n",
       "    <tr>\n",
       "      <th>9</th>\n",
       "      <td>21CSE1002</td>\n",
       "      <td>ARIN RATHORE</td>\n",
       "      <td>9.68</td>\n",
       "      <td>9.43</td>\n",
       "      <td>9.52</td>\n",
       "      <td>10.00</td>\n",
       "      <td>8.90</td>\n",
       "      <td>9.40</td>\n",
       "      <td>9.68</td>\n",
       "      <td>9.17</td>\n",
       "    </tr>\n",
       "    <tr>\n",
       "      <th>17</th>\n",
       "      <td>21CSE1003</td>\n",
       "      <td>ASHISH SINGH CHAUHAN</td>\n",
       "      <td>9.00</td>\n",
       "      <td>8.29</td>\n",
       "      <td>8.57</td>\n",
       "      <td>9.10</td>\n",
       "      <td>8.00</td>\n",
       "      <td>7.55</td>\n",
       "      <td>8.59</td>\n",
       "      <td>8.83</td>\n",
       "    </tr>\n",
       "    <tr>\n",
       "      <th>22</th>\n",
       "      <td>21CSE1004</td>\n",
       "      <td>ATUL</td>\n",
       "      <td>8.00</td>\n",
       "      <td>8.00</td>\n",
       "      <td>7.29</td>\n",
       "      <td>8.35</td>\n",
       "      <td>7.38</td>\n",
       "      <td>7.35</td>\n",
       "      <td>8.23</td>\n",
       "      <td>7.67</td>\n",
       "    </tr>\n",
       "    <tr>\n",
       "      <th>8</th>\n",
       "      <td>21CSE1005</td>\n",
       "      <td>BOGGARAPU VENKATA VAMSI KRISHNA</td>\n",
       "      <td>9.68</td>\n",
       "      <td>9.57</td>\n",
       "      <td>9.24</td>\n",
       "      <td>9.85</td>\n",
       "      <td>9.10</td>\n",
       "      <td>9.60</td>\n",
       "      <td>9.68</td>\n",
       "      <td>9.83</td>\n",
       "    </tr>\n",
       "    <tr>\n",
       "      <th>18</th>\n",
       "      <td>21CSE1006</td>\n",
       "      <td>DAKSHAL VINAYAK SHETYE</td>\n",
       "      <td>8.68</td>\n",
       "      <td>8.00</td>\n",
       "      <td>7.81</td>\n",
       "      <td>8.55</td>\n",
       "      <td>8.48</td>\n",
       "      <td>8.20</td>\n",
       "      <td>8.41</td>\n",
       "      <td>7.50</td>\n",
       "    </tr>\n",
       "    <tr>\n",
       "      <th>15</th>\n",
       "      <td>21CSE1007</td>\n",
       "      <td>DEEKSHA YADAV</td>\n",
       "      <td>9.86</td>\n",
       "      <td>8.95</td>\n",
       "      <td>8.48</td>\n",
       "      <td>9.00</td>\n",
       "      <td>8.38</td>\n",
       "      <td>8.20</td>\n",
       "      <td>8.86</td>\n",
       "      <td>9.00</td>\n",
       "    </tr>\n",
       "    <tr>\n",
       "      <th>27</th>\n",
       "      <td>21CSE1009</td>\n",
       "      <td>DIYA JOSHI</td>\n",
       "      <td>8.23</td>\n",
       "      <td>6.67</td>\n",
       "      <td>6.43</td>\n",
       "      <td>7.45</td>\n",
       "      <td>6.62</td>\n",
       "      <td>6.54</td>\n",
       "      <td>7.91</td>\n",
       "      <td>8.33</td>\n",
       "    </tr>\n",
       "    <tr>\n",
       "      <th>19</th>\n",
       "      <td>21CSE1013</td>\n",
       "      <td>JOYAL JOSEPH</td>\n",
       "      <td>7.91</td>\n",
       "      <td>8.19</td>\n",
       "      <td>8.33</td>\n",
       "      <td>8.20</td>\n",
       "      <td>7.62</td>\n",
       "      <td>7.60</td>\n",
       "      <td>7.95</td>\n",
       "      <td>8.50</td>\n",
       "    </tr>\n",
       "    <tr>\n",
       "      <th>25</th>\n",
       "      <td>21CSE1014</td>\n",
       "      <td>KARTHIK A</td>\n",
       "      <td>8.59</td>\n",
       "      <td>7.10</td>\n",
       "      <td>6.57</td>\n",
       "      <td>7.70</td>\n",
       "      <td>7.52</td>\n",
       "      <td>7.10</td>\n",
       "      <td>8.14</td>\n",
       "      <td>8.50</td>\n",
       "    </tr>\n",
       "    <tr>\n",
       "      <th>1</th>\n",
       "      <td>21CSE1016</td>\n",
       "      <td>KETAN PURUSHOTTAM KUNKALIKAR</td>\n",
       "      <td>8.82</td>\n",
       "      <td>7.86</td>\n",
       "      <td>7.67</td>\n",
       "      <td>7.90</td>\n",
       "      <td>7.71</td>\n",
       "      <td>6.35</td>\n",
       "      <td>7.71</td>\n",
       "      <td>NaN</td>\n",
       "    </tr>\n",
       "    <tr>\n",
       "      <th>16</th>\n",
       "      <td>21CSE1017</td>\n",
       "      <td>M KAVYA</td>\n",
       "      <td>9.00</td>\n",
       "      <td>8.86</td>\n",
       "      <td>8.76</td>\n",
       "      <td>8.85</td>\n",
       "      <td>8.62</td>\n",
       "      <td>8.41</td>\n",
       "      <td>9.00</td>\n",
       "      <td>8.67</td>\n",
       "    </tr>\n",
       "    <tr>\n",
       "      <th>24</th>\n",
       "      <td>21CSE1018</td>\n",
       "      <td>MALLELA GANESH KUMAR REDDY</td>\n",
       "      <td>6.55</td>\n",
       "      <td>6.71</td>\n",
       "      <td>7.00</td>\n",
       "      <td>8.10</td>\n",
       "      <td>7.95</td>\n",
       "      <td>7.97</td>\n",
       "      <td>8.64</td>\n",
       "      <td>8.67</td>\n",
       "    </tr>\n",
       "    <tr>\n",
       "      <th>23</th>\n",
       "      <td>21CSE1021</td>\n",
       "      <td>N YUVRAJ</td>\n",
       "      <td>6.91</td>\n",
       "      <td>7.76</td>\n",
       "      <td>7.95</td>\n",
       "      <td>8.00</td>\n",
       "      <td>8.29</td>\n",
       "      <td>7.11</td>\n",
       "      <td>8.05</td>\n",
       "      <td>7.83</td>\n",
       "    </tr>\n",
       "    <tr>\n",
       "      <th>2</th>\n",
       "      <td>21CSE1023</td>\n",
       "      <td>NISCHAL GAJANAN PARULEKAR</td>\n",
       "      <td>8.55</td>\n",
       "      <td>7.10</td>\n",
       "      <td>7.00</td>\n",
       "      <td>7.60</td>\n",
       "      <td>6.67</td>\n",
       "      <td>7.15</td>\n",
       "      <td>8.05</td>\n",
       "      <td>NaN</td>\n",
       "    </tr>\n",
       "    <tr>\n",
       "      <th>3</th>\n",
       "      <td>21CSE1024</td>\n",
       "      <td>PERLI ARYAN NAGESWARARAO</td>\n",
       "      <td>7.64</td>\n",
       "      <td>6.62</td>\n",
       "      <td>7.62</td>\n",
       "      <td>7.40</td>\n",
       "      <td>7.05</td>\n",
       "      <td>7.35</td>\n",
       "      <td>7.82</td>\n",
       "      <td>NaN</td>\n",
       "    </tr>\n",
       "    <tr>\n",
       "      <th>29</th>\n",
       "      <td>21CSE1025</td>\n",
       "      <td>POOJA RAMDAS SONAWANE</td>\n",
       "      <td>6.55</td>\n",
       "      <td>5.00</td>\n",
       "      <td>5.57</td>\n",
       "      <td>5.45</td>\n",
       "      <td>5.95</td>\n",
       "      <td>8.27</td>\n",
       "      <td>6.68</td>\n",
       "      <td>7.43</td>\n",
       "    </tr>\n",
       "    <tr>\n",
       "      <th>20</th>\n",
       "      <td>21CSE1026</td>\n",
       "      <td>PRATIK PRAVIN NAIK</td>\n",
       "      <td>7.27</td>\n",
       "      <td>8.43</td>\n",
       "      <td>8.62</td>\n",
       "      <td>8.25</td>\n",
       "      <td>7.86</td>\n",
       "      <td>7.31</td>\n",
       "      <td>7.91</td>\n",
       "      <td>8.50</td>\n",
       "    </tr>\n",
       "    <tr>\n",
       "      <th>4</th>\n",
       "      <td>21CSE1028</td>\n",
       "      <td>RAJ GUPTA</td>\n",
       "      <td>8.23</td>\n",
       "      <td>8.14</td>\n",
       "      <td>7.43</td>\n",
       "      <td>7.95</td>\n",
       "      <td>7.43</td>\n",
       "      <td>7.45</td>\n",
       "      <td>8.05</td>\n",
       "      <td>NaN</td>\n",
       "    </tr>\n",
       "    <tr>\n",
       "      <th>21</th>\n",
       "      <td>21CSE1029</td>\n",
       "      <td>RAJENDRA KUMAR</td>\n",
       "      <td>8.55</td>\n",
       "      <td>7.05</td>\n",
       "      <td>7.48</td>\n",
       "      <td>7.65</td>\n",
       "      <td>7.10</td>\n",
       "      <td>7.50</td>\n",
       "      <td>8.23</td>\n",
       "      <td>9.17</td>\n",
       "    </tr>\n",
       "    <tr>\n",
       "      <th>26</th>\n",
       "      <td>21CSE1031</td>\n",
       "      <td>SANKET SURAJ USGAONKAR</td>\n",
       "      <td>7.91</td>\n",
       "      <td>7.29</td>\n",
       "      <td>6.62</td>\n",
       "      <td>7.45</td>\n",
       "      <td>7.62</td>\n",
       "      <td>7.08</td>\n",
       "      <td>8.18</td>\n",
       "      <td>7.83</td>\n",
       "    </tr>\n",
       "    <tr>\n",
       "      <th>12</th>\n",
       "      <td>21CSE1033</td>\n",
       "      <td>SHRAVANI BIPIN PAWAR</td>\n",
       "      <td>9.50</td>\n",
       "      <td>8.67</td>\n",
       "      <td>8.95</td>\n",
       "      <td>9.30</td>\n",
       "      <td>9.71</td>\n",
       "      <td>9.00</td>\n",
       "      <td>9.36</td>\n",
       "      <td>9.67</td>\n",
       "    </tr>\n",
       "    <tr>\n",
       "      <th>5</th>\n",
       "      <td>21CSE1034</td>\n",
       "      <td>SHRUTI BALASAHEB PATIL</td>\n",
       "      <td>9.36</td>\n",
       "      <td>7.86</td>\n",
       "      <td>7.71</td>\n",
       "      <td>7.80</td>\n",
       "      <td>7.71</td>\n",
       "      <td>7.80</td>\n",
       "      <td>8.91</td>\n",
       "      <td>NaN</td>\n",
       "    </tr>\n",
       "    <tr>\n",
       "      <th>14</th>\n",
       "      <td>21CSE1036</td>\n",
       "      <td>TUSHAR PAL</td>\n",
       "      <td>8.95</td>\n",
       "      <td>8.52</td>\n",
       "      <td>9.24</td>\n",
       "      <td>8.95</td>\n",
       "      <td>8.76</td>\n",
       "      <td>8.55</td>\n",
       "      <td>9.05</td>\n",
       "      <td>9.17</td>\n",
       "    </tr>\n",
       "    <tr>\n",
       "      <th>11</th>\n",
       "      <td>21CSE1038</td>\n",
       "      <td>VAIBHAV YADAV</td>\n",
       "      <td>9.14</td>\n",
       "      <td>8.76</td>\n",
       "      <td>9.52</td>\n",
       "      <td>9.75</td>\n",
       "      <td>9.43</td>\n",
       "      <td>9.30</td>\n",
       "      <td>9.91</td>\n",
       "      <td>9.50</td>\n",
       "    </tr>\n",
       "    <tr>\n",
       "      <th>28</th>\n",
       "      <td>21CSE1040</td>\n",
       "      <td>VISHAL PRATAP</td>\n",
       "      <td>8.09</td>\n",
       "      <td>6.67</td>\n",
       "      <td>6.62</td>\n",
       "      <td>6.60</td>\n",
       "      <td>6.71</td>\n",
       "      <td>6.32</td>\n",
       "      <td>7.36</td>\n",
       "      <td>6.83</td>\n",
       "    </tr>\n",
       "    <tr>\n",
       "      <th>7</th>\n",
       "      <td>21CSE1041</td>\n",
       "      <td>ARUN UPADHYAY</td>\n",
       "      <td>10.00</td>\n",
       "      <td>10.00</td>\n",
       "      <td>9.62</td>\n",
       "      <td>10.00</td>\n",
       "      <td>9.90</td>\n",
       "      <td>10.00</td>\n",
       "      <td>10.00</td>\n",
       "      <td>10.00</td>\n",
       "    </tr>\n",
       "    <tr>\n",
       "      <th>10</th>\n",
       "      <td>21CSE1042</td>\n",
       "      <td>MORUSU GUNASEKHAR REDDY</td>\n",
       "      <td>9.43</td>\n",
       "      <td>9.23</td>\n",
       "      <td>9.29</td>\n",
       "      <td>9.60</td>\n",
       "      <td>9.29</td>\n",
       "      <td>9.79</td>\n",
       "      <td>9.45</td>\n",
       "      <td>9.67</td>\n",
       "    </tr>\n",
       "    <tr>\n",
       "      <th>13</th>\n",
       "      <td>21CSE1043</td>\n",
       "      <td>AKASH ABHILASH</td>\n",
       "      <td>9.29</td>\n",
       "      <td>9.05</td>\n",
       "      <td>9.10</td>\n",
       "      <td>8.95</td>\n",
       "      <td>9.10</td>\n",
       "      <td>9.00</td>\n",
       "      <td>9.14</td>\n",
       "      <td>9.50</td>\n",
       "    </tr>\n",
       "    <tr>\n",
       "      <th>6</th>\n",
       "      <td>21CSE1044</td>\n",
       "      <td>ABHISHEK CHOUKUSE</td>\n",
       "      <td>9.55</td>\n",
       "      <td>8.76</td>\n",
       "      <td>9.10</td>\n",
       "      <td>9.45</td>\n",
       "      <td>8.90</td>\n",
       "      <td>8.65</td>\n",
       "      <td>9.68</td>\n",
       "      <td>NaN</td>\n",
       "    </tr>\n",
       "  </tbody>\n",
       "</table>\n",
       "</div>"
      ]
     },
     "execution_count": 22,
     "metadata": {},
     "output_type": "execute_result"
    }
   ],
   "execution_count": 22
  },
  {
   "metadata": {
    "ExecuteTime": {
     "end_time": "2025-06-21T12:48:29.716620Z",
     "start_time": "2025-06-21T12:48:29.709072Z"
    }
   },
   "cell_type": "code",
   "source": "cgpa = df[[\"reg.no\", \"student name\", \"cgpa_1\", \"cgpa_2\", \"cgpa_3\", \"cgpa_4\", \"cgpa_5\", \"cgpa_6\", \"cgpa_7\", \"cgpa_8\"]]",
   "id": "f4e484cd5bbedd33",
   "outputs": [],
   "execution_count": 8
  },
  {
   "metadata": {
    "ExecuteTime": {
     "end_time": "2025-06-21T12:48:29.772654Z",
     "start_time": "2025-06-21T12:48:29.765227Z"
    }
   },
   "cell_type": "code",
   "source": "transposed_sgpa = sgpa.transpose()",
   "id": "55543e069bd99fc1",
   "outputs": [],
   "execution_count": 9
  },
  {
   "metadata": {
    "ExecuteTime": {
     "end_time": "2025-06-21T12:48:29.866645Z",
     "start_time": "2025-06-21T12:48:29.838299Z"
    }
   },
   "cell_type": "code",
   "source": "transposed_sgpa",
   "id": "17b18cbbcb8dbb40",
   "outputs": [
    {
     "data": {
      "text/plain": [
       "                                    0             9                     17  \\\n",
       "reg.no                       21CSE1001     21CSE1002             21CSE1003   \n",
       "student name  ARADHANA DILIP CUNCOLCAR  ARIN RATHORE  ASHISH SINGH CHAUHAN   \n",
       "sgpa_1                            7.45          9.68                   9.0   \n",
       "sgpa_2                            7.05          9.43                  8.29   \n",
       "sgpa_3                            6.67          9.52                  8.57   \n",
       "sgpa_4                             6.7          10.0                   9.1   \n",
       "sgpa_5                            7.33           8.9                   8.0   \n",
       "sgpa_6                             6.8           9.4                  7.55   \n",
       "sgpa_7                            7.59          9.68                  8.59   \n",
       "sgpa_8                             NaN          9.17                  8.83   \n",
       "\n",
       "                     22                               8   \\\n",
       "reg.no        21CSE1004                        21CSE1005   \n",
       "student name       ATUL  BOGGARAPU VENKATA VAMSI KRISHNA   \n",
       "sgpa_1              8.0                             9.68   \n",
       "sgpa_2              8.0                             9.57   \n",
       "sgpa_3             7.29                             9.24   \n",
       "sgpa_4             8.35                             9.85   \n",
       "sgpa_5             7.38                              9.1   \n",
       "sgpa_6             7.35                              9.6   \n",
       "sgpa_7             8.23                             9.68   \n",
       "sgpa_8             7.67                             9.83   \n",
       "\n",
       "                                  18             15          27            19  \\\n",
       "reg.no                     21CSE1006      21CSE1007   21CSE1009     21CSE1013   \n",
       "student name  DAKSHAL VINAYAK SHETYE  DEEKSHA YADAV  DIYA JOSHI  JOYAL JOSEPH   \n",
       "sgpa_1                          8.68           9.86        8.23          7.91   \n",
       "sgpa_2                           8.0           8.95        6.67          8.19   \n",
       "sgpa_3                          7.81           8.48        6.43          8.33   \n",
       "sgpa_4                          8.55            9.0        7.45           8.2   \n",
       "sgpa_5                          8.48           8.38        6.62          7.62   \n",
       "sgpa_6                           8.2            8.2        6.54           7.6   \n",
       "sgpa_7                          8.41           8.86        7.91          7.95   \n",
       "sgpa_8                           7.5            9.0        8.33           8.5   \n",
       "\n",
       "                     25  ...                      26                    12  \\\n",
       "reg.no        21CSE1014  ...               21CSE1031             21CSE1033   \n",
       "student name  KARTHIK A  ...  SANKET SURAJ USGAONKAR  SHRAVANI BIPIN PAWAR   \n",
       "sgpa_1             8.59  ...                    7.91                   9.5   \n",
       "sgpa_2              7.1  ...                    7.29                  8.67   \n",
       "sgpa_3             6.57  ...                    6.62                  8.95   \n",
       "sgpa_4              7.7  ...                    7.45                   9.3   \n",
       "sgpa_5             7.52  ...                    7.62                  9.71   \n",
       "sgpa_6              7.1  ...                    7.08                   9.0   \n",
       "sgpa_7             8.14  ...                    8.18                  9.36   \n",
       "sgpa_8              8.5  ...                    7.83                  9.67   \n",
       "\n",
       "                                  5           14             11  \\\n",
       "reg.no                     21CSE1034   21CSE1036      21CSE1038   \n",
       "student name  SHRUTI BALASAHEB PATIL  TUSHAR PAL  VAIBHAV YADAV   \n",
       "sgpa_1                          9.36        8.95           9.14   \n",
       "sgpa_2                          7.86        8.52           8.76   \n",
       "sgpa_3                          7.71        9.24           9.52   \n",
       "sgpa_4                           7.8        8.95           9.75   \n",
       "sgpa_5                          7.71        8.76           9.43   \n",
       "sgpa_6                           7.8        8.55            9.3   \n",
       "sgpa_7                          8.91        9.05           9.91   \n",
       "sgpa_8                           NaN        9.17            9.5   \n",
       "\n",
       "                         28             7                        10  \\\n",
       "reg.no            21CSE1040      21CSE1041                21CSE1042   \n",
       "student name  VISHAL PRATAP  ARUN UPADHYAY  MORUSU GUNASEKHAR REDDY   \n",
       "sgpa_1                 8.09           10.0                     9.43   \n",
       "sgpa_2                 6.67           10.0                     9.23   \n",
       "sgpa_3                 6.62           9.62                     9.29   \n",
       "sgpa_4                  6.6           10.0                      9.6   \n",
       "sgpa_5                 6.71            9.9                     9.29   \n",
       "sgpa_6                 6.32           10.0                     9.79   \n",
       "sgpa_7                 7.36           10.0                     9.45   \n",
       "sgpa_8                 6.83           10.0                     9.67   \n",
       "\n",
       "                          13                 6   \n",
       "reg.no             21CSE1043          21CSE1044  \n",
       "student name  AKASH ABHILASH  ABHISHEK CHOUKUSE  \n",
       "sgpa_1                  9.29               9.55  \n",
       "sgpa_2                  9.05               8.76  \n",
       "sgpa_3                   9.1                9.1  \n",
       "sgpa_4                  8.95               9.45  \n",
       "sgpa_5                   9.1                8.9  \n",
       "sgpa_6                   9.0               8.65  \n",
       "sgpa_7                  9.14               9.68  \n",
       "sgpa_8                   9.5                NaN  \n",
       "\n",
       "[10 rows x 30 columns]"
      ],
      "text/html": [
       "<div>\n",
       "<style scoped>\n",
       "    .dataframe tbody tr th:only-of-type {\n",
       "        vertical-align: middle;\n",
       "    }\n",
       "\n",
       "    .dataframe tbody tr th {\n",
       "        vertical-align: top;\n",
       "    }\n",
       "\n",
       "    .dataframe thead th {\n",
       "        text-align: right;\n",
       "    }\n",
       "</style>\n",
       "<table border=\"1\" class=\"dataframe\">\n",
       "  <thead>\n",
       "    <tr style=\"text-align: right;\">\n",
       "      <th></th>\n",
       "      <th>0</th>\n",
       "      <th>9</th>\n",
       "      <th>17</th>\n",
       "      <th>22</th>\n",
       "      <th>8</th>\n",
       "      <th>18</th>\n",
       "      <th>15</th>\n",
       "      <th>27</th>\n",
       "      <th>19</th>\n",
       "      <th>25</th>\n",
       "      <th>...</th>\n",
       "      <th>26</th>\n",
       "      <th>12</th>\n",
       "      <th>5</th>\n",
       "      <th>14</th>\n",
       "      <th>11</th>\n",
       "      <th>28</th>\n",
       "      <th>7</th>\n",
       "      <th>10</th>\n",
       "      <th>13</th>\n",
       "      <th>6</th>\n",
       "    </tr>\n",
       "  </thead>\n",
       "  <tbody>\n",
       "    <tr>\n",
       "      <th>reg.no</th>\n",
       "      <td>21CSE1001</td>\n",
       "      <td>21CSE1002</td>\n",
       "      <td>21CSE1003</td>\n",
       "      <td>21CSE1004</td>\n",
       "      <td>21CSE1005</td>\n",
       "      <td>21CSE1006</td>\n",
       "      <td>21CSE1007</td>\n",
       "      <td>21CSE1009</td>\n",
       "      <td>21CSE1013</td>\n",
       "      <td>21CSE1014</td>\n",
       "      <td>...</td>\n",
       "      <td>21CSE1031</td>\n",
       "      <td>21CSE1033</td>\n",
       "      <td>21CSE1034</td>\n",
       "      <td>21CSE1036</td>\n",
       "      <td>21CSE1038</td>\n",
       "      <td>21CSE1040</td>\n",
       "      <td>21CSE1041</td>\n",
       "      <td>21CSE1042</td>\n",
       "      <td>21CSE1043</td>\n",
       "      <td>21CSE1044</td>\n",
       "    </tr>\n",
       "    <tr>\n",
       "      <th>student name</th>\n",
       "      <td>ARADHANA DILIP CUNCOLCAR</td>\n",
       "      <td>ARIN RATHORE</td>\n",
       "      <td>ASHISH SINGH CHAUHAN</td>\n",
       "      <td>ATUL</td>\n",
       "      <td>BOGGARAPU VENKATA VAMSI KRISHNA</td>\n",
       "      <td>DAKSHAL VINAYAK SHETYE</td>\n",
       "      <td>DEEKSHA YADAV</td>\n",
       "      <td>DIYA JOSHI</td>\n",
       "      <td>JOYAL JOSEPH</td>\n",
       "      <td>KARTHIK A</td>\n",
       "      <td>...</td>\n",
       "      <td>SANKET SURAJ USGAONKAR</td>\n",
       "      <td>SHRAVANI BIPIN PAWAR</td>\n",
       "      <td>SHRUTI BALASAHEB PATIL</td>\n",
       "      <td>TUSHAR PAL</td>\n",
       "      <td>VAIBHAV YADAV</td>\n",
       "      <td>VISHAL PRATAP</td>\n",
       "      <td>ARUN UPADHYAY</td>\n",
       "      <td>MORUSU GUNASEKHAR REDDY</td>\n",
       "      <td>AKASH ABHILASH</td>\n",
       "      <td>ABHISHEK CHOUKUSE</td>\n",
       "    </tr>\n",
       "    <tr>\n",
       "      <th>sgpa_1</th>\n",
       "      <td>7.45</td>\n",
       "      <td>9.68</td>\n",
       "      <td>9.0</td>\n",
       "      <td>8.0</td>\n",
       "      <td>9.68</td>\n",
       "      <td>8.68</td>\n",
       "      <td>9.86</td>\n",
       "      <td>8.23</td>\n",
       "      <td>7.91</td>\n",
       "      <td>8.59</td>\n",
       "      <td>...</td>\n",
       "      <td>7.91</td>\n",
       "      <td>9.5</td>\n",
       "      <td>9.36</td>\n",
       "      <td>8.95</td>\n",
       "      <td>9.14</td>\n",
       "      <td>8.09</td>\n",
       "      <td>10.0</td>\n",
       "      <td>9.43</td>\n",
       "      <td>9.29</td>\n",
       "      <td>9.55</td>\n",
       "    </tr>\n",
       "    <tr>\n",
       "      <th>sgpa_2</th>\n",
       "      <td>7.05</td>\n",
       "      <td>9.43</td>\n",
       "      <td>8.29</td>\n",
       "      <td>8.0</td>\n",
       "      <td>9.57</td>\n",
       "      <td>8.0</td>\n",
       "      <td>8.95</td>\n",
       "      <td>6.67</td>\n",
       "      <td>8.19</td>\n",
       "      <td>7.1</td>\n",
       "      <td>...</td>\n",
       "      <td>7.29</td>\n",
       "      <td>8.67</td>\n",
       "      <td>7.86</td>\n",
       "      <td>8.52</td>\n",
       "      <td>8.76</td>\n",
       "      <td>6.67</td>\n",
       "      <td>10.0</td>\n",
       "      <td>9.23</td>\n",
       "      <td>9.05</td>\n",
       "      <td>8.76</td>\n",
       "    </tr>\n",
       "    <tr>\n",
       "      <th>sgpa_3</th>\n",
       "      <td>6.67</td>\n",
       "      <td>9.52</td>\n",
       "      <td>8.57</td>\n",
       "      <td>7.29</td>\n",
       "      <td>9.24</td>\n",
       "      <td>7.81</td>\n",
       "      <td>8.48</td>\n",
       "      <td>6.43</td>\n",
       "      <td>8.33</td>\n",
       "      <td>6.57</td>\n",
       "      <td>...</td>\n",
       "      <td>6.62</td>\n",
       "      <td>8.95</td>\n",
       "      <td>7.71</td>\n",
       "      <td>9.24</td>\n",
       "      <td>9.52</td>\n",
       "      <td>6.62</td>\n",
       "      <td>9.62</td>\n",
       "      <td>9.29</td>\n",
       "      <td>9.1</td>\n",
       "      <td>9.1</td>\n",
       "    </tr>\n",
       "    <tr>\n",
       "      <th>sgpa_4</th>\n",
       "      <td>6.7</td>\n",
       "      <td>10.0</td>\n",
       "      <td>9.1</td>\n",
       "      <td>8.35</td>\n",
       "      <td>9.85</td>\n",
       "      <td>8.55</td>\n",
       "      <td>9.0</td>\n",
       "      <td>7.45</td>\n",
       "      <td>8.2</td>\n",
       "      <td>7.7</td>\n",
       "      <td>...</td>\n",
       "      <td>7.45</td>\n",
       "      <td>9.3</td>\n",
       "      <td>7.8</td>\n",
       "      <td>8.95</td>\n",
       "      <td>9.75</td>\n",
       "      <td>6.6</td>\n",
       "      <td>10.0</td>\n",
       "      <td>9.6</td>\n",
       "      <td>8.95</td>\n",
       "      <td>9.45</td>\n",
       "    </tr>\n",
       "    <tr>\n",
       "      <th>sgpa_5</th>\n",
       "      <td>7.33</td>\n",
       "      <td>8.9</td>\n",
       "      <td>8.0</td>\n",
       "      <td>7.38</td>\n",
       "      <td>9.1</td>\n",
       "      <td>8.48</td>\n",
       "      <td>8.38</td>\n",
       "      <td>6.62</td>\n",
       "      <td>7.62</td>\n",
       "      <td>7.52</td>\n",
       "      <td>...</td>\n",
       "      <td>7.62</td>\n",
       "      <td>9.71</td>\n",
       "      <td>7.71</td>\n",
       "      <td>8.76</td>\n",
       "      <td>9.43</td>\n",
       "      <td>6.71</td>\n",
       "      <td>9.9</td>\n",
       "      <td>9.29</td>\n",
       "      <td>9.1</td>\n",
       "      <td>8.9</td>\n",
       "    </tr>\n",
       "    <tr>\n",
       "      <th>sgpa_6</th>\n",
       "      <td>6.8</td>\n",
       "      <td>9.4</td>\n",
       "      <td>7.55</td>\n",
       "      <td>7.35</td>\n",
       "      <td>9.6</td>\n",
       "      <td>8.2</td>\n",
       "      <td>8.2</td>\n",
       "      <td>6.54</td>\n",
       "      <td>7.6</td>\n",
       "      <td>7.1</td>\n",
       "      <td>...</td>\n",
       "      <td>7.08</td>\n",
       "      <td>9.0</td>\n",
       "      <td>7.8</td>\n",
       "      <td>8.55</td>\n",
       "      <td>9.3</td>\n",
       "      <td>6.32</td>\n",
       "      <td>10.0</td>\n",
       "      <td>9.79</td>\n",
       "      <td>9.0</td>\n",
       "      <td>8.65</td>\n",
       "    </tr>\n",
       "    <tr>\n",
       "      <th>sgpa_7</th>\n",
       "      <td>7.59</td>\n",
       "      <td>9.68</td>\n",
       "      <td>8.59</td>\n",
       "      <td>8.23</td>\n",
       "      <td>9.68</td>\n",
       "      <td>8.41</td>\n",
       "      <td>8.86</td>\n",
       "      <td>7.91</td>\n",
       "      <td>7.95</td>\n",
       "      <td>8.14</td>\n",
       "      <td>...</td>\n",
       "      <td>8.18</td>\n",
       "      <td>9.36</td>\n",
       "      <td>8.91</td>\n",
       "      <td>9.05</td>\n",
       "      <td>9.91</td>\n",
       "      <td>7.36</td>\n",
       "      <td>10.0</td>\n",
       "      <td>9.45</td>\n",
       "      <td>9.14</td>\n",
       "      <td>9.68</td>\n",
       "    </tr>\n",
       "    <tr>\n",
       "      <th>sgpa_8</th>\n",
       "      <td>NaN</td>\n",
       "      <td>9.17</td>\n",
       "      <td>8.83</td>\n",
       "      <td>7.67</td>\n",
       "      <td>9.83</td>\n",
       "      <td>7.5</td>\n",
       "      <td>9.0</td>\n",
       "      <td>8.33</td>\n",
       "      <td>8.5</td>\n",
       "      <td>8.5</td>\n",
       "      <td>...</td>\n",
       "      <td>7.83</td>\n",
       "      <td>9.67</td>\n",
       "      <td>NaN</td>\n",
       "      <td>9.17</td>\n",
       "      <td>9.5</td>\n",
       "      <td>6.83</td>\n",
       "      <td>10.0</td>\n",
       "      <td>9.67</td>\n",
       "      <td>9.5</td>\n",
       "      <td>NaN</td>\n",
       "    </tr>\n",
       "  </tbody>\n",
       "</table>\n",
       "<p>10 rows × 30 columns</p>\n",
       "</div>"
      ]
     },
     "execution_count": 10,
     "metadata": {},
     "output_type": "execute_result"
    }
   ],
   "execution_count": 10
  },
  {
   "metadata": {
    "ExecuteTime": {
     "end_time": "2025-06-21T12:48:30.014400Z",
     "start_time": "2025-06-21T12:48:30.006675Z"
    }
   },
   "cell_type": "code",
   "source": "transposed_sgpa.reset_index(drop = False, inplace = True)",
   "id": "4dd2e25eb7140a06",
   "outputs": [],
   "execution_count": 11
  },
  {
   "metadata": {
    "ExecuteTime": {
     "end_time": "2025-06-21T12:48:30.355199Z",
     "start_time": "2025-06-21T12:48:30.348859Z"
    }
   },
   "cell_type": "code",
   "source": "transposed_sgpa.iloc[1, 0] = \"semester\"",
   "id": "5dc52a0082644b22",
   "outputs": [],
   "execution_count": 12
  },
  {
   "metadata": {
    "ExecuteTime": {
     "end_time": "2025-06-21T12:48:30.632834Z",
     "start_time": "2025-06-21T12:48:30.626533Z"
    }
   },
   "cell_type": "code",
   "source": "transposed_sgpa = transposed_sgpa.iloc[1:]",
   "id": "a08fc3d27a1783a8",
   "outputs": [],
   "execution_count": 13
  },
  {
   "metadata": {
    "ExecuteTime": {
     "end_time": "2025-06-21T12:48:30.748754Z",
     "start_time": "2025-06-21T12:48:30.743068Z"
    }
   },
   "cell_type": "code",
   "source": [
    "# Step 1: Set the first row as the column names\n",
    "transposed_sgpa.columns = transposed_sgpa.iloc[0]\n",
    "\n",
    "# Step 2: Remove the first row used for headers and reset the index\n",
    "transposed_sgpa = transposed_sgpa.iloc[1:]\n"
   ],
   "id": "973279a7314ae124",
   "outputs": [],
   "execution_count": 14
  },
  {
   "metadata": {
    "ExecuteTime": {
     "end_time": "2025-06-21T12:48:30.831278Z",
     "start_time": "2025-06-21T12:48:30.812699Z"
    }
   },
   "cell_type": "code",
   "source": "transposed_sgpa",
   "id": "ecf07e748e38a1a",
   "outputs": [
    {
     "data": {
      "text/plain": [
       "1 semester ARADHANA DILIP CUNCOLCAR ARIN RATHORE ASHISH SINGH CHAUHAN  ATUL  \\\n",
       "2   sgpa_1                     7.45         9.68                  9.0   8.0   \n",
       "3   sgpa_2                     7.05         9.43                 8.29   8.0   \n",
       "4   sgpa_3                     6.67         9.52                 8.57  7.29   \n",
       "5   sgpa_4                      6.7         10.0                  9.1  8.35   \n",
       "6   sgpa_5                     7.33          8.9                  8.0  7.38   \n",
       "7   sgpa_6                      6.8          9.4                 7.55  7.35   \n",
       "8   sgpa_7                     7.59         9.68                 8.59  8.23   \n",
       "9   sgpa_8                      NaN         9.17                 8.83  7.67   \n",
       "\n",
       "1 BOGGARAPU VENKATA VAMSI KRISHNA DAKSHAL VINAYAK SHETYE DEEKSHA YADAV  \\\n",
       "2                            9.68                   8.68          9.86   \n",
       "3                            9.57                    8.0          8.95   \n",
       "4                            9.24                   7.81          8.48   \n",
       "5                            9.85                   8.55           9.0   \n",
       "6                             9.1                   8.48          8.38   \n",
       "7                             9.6                    8.2           8.2   \n",
       "8                            9.68                   8.41          8.86   \n",
       "9                            9.83                    7.5           9.0   \n",
       "\n",
       "1 DIYA JOSHI JOYAL JOSEPH  ... SANKET SURAJ USGAONKAR SHRAVANI BIPIN PAWAR  \\\n",
       "2       8.23         7.91  ...                   7.91                  9.5   \n",
       "3       6.67         8.19  ...                   7.29                 8.67   \n",
       "4       6.43         8.33  ...                   6.62                 8.95   \n",
       "5       7.45          8.2  ...                   7.45                  9.3   \n",
       "6       6.62         7.62  ...                   7.62                 9.71   \n",
       "7       6.54          7.6  ...                   7.08                  9.0   \n",
       "8       7.91         7.95  ...                   8.18                 9.36   \n",
       "9       8.33          8.5  ...                   7.83                 9.67   \n",
       "\n",
       "1 SHRUTI BALASAHEB PATIL TUSHAR PAL VAIBHAV YADAV VISHAL PRATAP ARUN UPADHYAY  \\\n",
       "2                   9.36       8.95          9.14          8.09          10.0   \n",
       "3                   7.86       8.52          8.76          6.67          10.0   \n",
       "4                   7.71       9.24          9.52          6.62          9.62   \n",
       "5                    7.8       8.95          9.75           6.6          10.0   \n",
       "6                   7.71       8.76          9.43          6.71           9.9   \n",
       "7                    7.8       8.55           9.3          6.32          10.0   \n",
       "8                   8.91       9.05          9.91          7.36          10.0   \n",
       "9                    NaN       9.17           9.5          6.83          10.0   \n",
       "\n",
       "1 MORUSU GUNASEKHAR REDDY AKASH ABHILASH ABHISHEK CHOUKUSE  \n",
       "2                    9.43           9.29              9.55  \n",
       "3                    9.23           9.05              8.76  \n",
       "4                    9.29            9.1               9.1  \n",
       "5                     9.6           8.95              9.45  \n",
       "6                    9.29            9.1               8.9  \n",
       "7                    9.79            9.0              8.65  \n",
       "8                    9.45           9.14              9.68  \n",
       "9                    9.67            9.5               NaN  \n",
       "\n",
       "[8 rows x 31 columns]"
      ],
      "text/html": [
       "<div>\n",
       "<style scoped>\n",
       "    .dataframe tbody tr th:only-of-type {\n",
       "        vertical-align: middle;\n",
       "    }\n",
       "\n",
       "    .dataframe tbody tr th {\n",
       "        vertical-align: top;\n",
       "    }\n",
       "\n",
       "    .dataframe thead th {\n",
       "        text-align: right;\n",
       "    }\n",
       "</style>\n",
       "<table border=\"1\" class=\"dataframe\">\n",
       "  <thead>\n",
       "    <tr style=\"text-align: right;\">\n",
       "      <th>1</th>\n",
       "      <th>semester</th>\n",
       "      <th>ARADHANA DILIP CUNCOLCAR</th>\n",
       "      <th>ARIN RATHORE</th>\n",
       "      <th>ASHISH SINGH CHAUHAN</th>\n",
       "      <th>ATUL</th>\n",
       "      <th>BOGGARAPU VENKATA VAMSI KRISHNA</th>\n",
       "      <th>DAKSHAL VINAYAK SHETYE</th>\n",
       "      <th>DEEKSHA YADAV</th>\n",
       "      <th>DIYA JOSHI</th>\n",
       "      <th>JOYAL JOSEPH</th>\n",
       "      <th>...</th>\n",
       "      <th>SANKET SURAJ USGAONKAR</th>\n",
       "      <th>SHRAVANI BIPIN PAWAR</th>\n",
       "      <th>SHRUTI BALASAHEB PATIL</th>\n",
       "      <th>TUSHAR PAL</th>\n",
       "      <th>VAIBHAV YADAV</th>\n",
       "      <th>VISHAL PRATAP</th>\n",
       "      <th>ARUN UPADHYAY</th>\n",
       "      <th>MORUSU GUNASEKHAR REDDY</th>\n",
       "      <th>AKASH ABHILASH</th>\n",
       "      <th>ABHISHEK CHOUKUSE</th>\n",
       "    </tr>\n",
       "  </thead>\n",
       "  <tbody>\n",
       "    <tr>\n",
       "      <th>2</th>\n",
       "      <td>sgpa_1</td>\n",
       "      <td>7.45</td>\n",
       "      <td>9.68</td>\n",
       "      <td>9.0</td>\n",
       "      <td>8.0</td>\n",
       "      <td>9.68</td>\n",
       "      <td>8.68</td>\n",
       "      <td>9.86</td>\n",
       "      <td>8.23</td>\n",
       "      <td>7.91</td>\n",
       "      <td>...</td>\n",
       "      <td>7.91</td>\n",
       "      <td>9.5</td>\n",
       "      <td>9.36</td>\n",
       "      <td>8.95</td>\n",
       "      <td>9.14</td>\n",
       "      <td>8.09</td>\n",
       "      <td>10.0</td>\n",
       "      <td>9.43</td>\n",
       "      <td>9.29</td>\n",
       "      <td>9.55</td>\n",
       "    </tr>\n",
       "    <tr>\n",
       "      <th>3</th>\n",
       "      <td>sgpa_2</td>\n",
       "      <td>7.05</td>\n",
       "      <td>9.43</td>\n",
       "      <td>8.29</td>\n",
       "      <td>8.0</td>\n",
       "      <td>9.57</td>\n",
       "      <td>8.0</td>\n",
       "      <td>8.95</td>\n",
       "      <td>6.67</td>\n",
       "      <td>8.19</td>\n",
       "      <td>...</td>\n",
       "      <td>7.29</td>\n",
       "      <td>8.67</td>\n",
       "      <td>7.86</td>\n",
       "      <td>8.52</td>\n",
       "      <td>8.76</td>\n",
       "      <td>6.67</td>\n",
       "      <td>10.0</td>\n",
       "      <td>9.23</td>\n",
       "      <td>9.05</td>\n",
       "      <td>8.76</td>\n",
       "    </tr>\n",
       "    <tr>\n",
       "      <th>4</th>\n",
       "      <td>sgpa_3</td>\n",
       "      <td>6.67</td>\n",
       "      <td>9.52</td>\n",
       "      <td>8.57</td>\n",
       "      <td>7.29</td>\n",
       "      <td>9.24</td>\n",
       "      <td>7.81</td>\n",
       "      <td>8.48</td>\n",
       "      <td>6.43</td>\n",
       "      <td>8.33</td>\n",
       "      <td>...</td>\n",
       "      <td>6.62</td>\n",
       "      <td>8.95</td>\n",
       "      <td>7.71</td>\n",
       "      <td>9.24</td>\n",
       "      <td>9.52</td>\n",
       "      <td>6.62</td>\n",
       "      <td>9.62</td>\n",
       "      <td>9.29</td>\n",
       "      <td>9.1</td>\n",
       "      <td>9.1</td>\n",
       "    </tr>\n",
       "    <tr>\n",
       "      <th>5</th>\n",
       "      <td>sgpa_4</td>\n",
       "      <td>6.7</td>\n",
       "      <td>10.0</td>\n",
       "      <td>9.1</td>\n",
       "      <td>8.35</td>\n",
       "      <td>9.85</td>\n",
       "      <td>8.55</td>\n",
       "      <td>9.0</td>\n",
       "      <td>7.45</td>\n",
       "      <td>8.2</td>\n",
       "      <td>...</td>\n",
       "      <td>7.45</td>\n",
       "      <td>9.3</td>\n",
       "      <td>7.8</td>\n",
       "      <td>8.95</td>\n",
       "      <td>9.75</td>\n",
       "      <td>6.6</td>\n",
       "      <td>10.0</td>\n",
       "      <td>9.6</td>\n",
       "      <td>8.95</td>\n",
       "      <td>9.45</td>\n",
       "    </tr>\n",
       "    <tr>\n",
       "      <th>6</th>\n",
       "      <td>sgpa_5</td>\n",
       "      <td>7.33</td>\n",
       "      <td>8.9</td>\n",
       "      <td>8.0</td>\n",
       "      <td>7.38</td>\n",
       "      <td>9.1</td>\n",
       "      <td>8.48</td>\n",
       "      <td>8.38</td>\n",
       "      <td>6.62</td>\n",
       "      <td>7.62</td>\n",
       "      <td>...</td>\n",
       "      <td>7.62</td>\n",
       "      <td>9.71</td>\n",
       "      <td>7.71</td>\n",
       "      <td>8.76</td>\n",
       "      <td>9.43</td>\n",
       "      <td>6.71</td>\n",
       "      <td>9.9</td>\n",
       "      <td>9.29</td>\n",
       "      <td>9.1</td>\n",
       "      <td>8.9</td>\n",
       "    </tr>\n",
       "    <tr>\n",
       "      <th>7</th>\n",
       "      <td>sgpa_6</td>\n",
       "      <td>6.8</td>\n",
       "      <td>9.4</td>\n",
       "      <td>7.55</td>\n",
       "      <td>7.35</td>\n",
       "      <td>9.6</td>\n",
       "      <td>8.2</td>\n",
       "      <td>8.2</td>\n",
       "      <td>6.54</td>\n",
       "      <td>7.6</td>\n",
       "      <td>...</td>\n",
       "      <td>7.08</td>\n",
       "      <td>9.0</td>\n",
       "      <td>7.8</td>\n",
       "      <td>8.55</td>\n",
       "      <td>9.3</td>\n",
       "      <td>6.32</td>\n",
       "      <td>10.0</td>\n",
       "      <td>9.79</td>\n",
       "      <td>9.0</td>\n",
       "      <td>8.65</td>\n",
       "    </tr>\n",
       "    <tr>\n",
       "      <th>8</th>\n",
       "      <td>sgpa_7</td>\n",
       "      <td>7.59</td>\n",
       "      <td>9.68</td>\n",
       "      <td>8.59</td>\n",
       "      <td>8.23</td>\n",
       "      <td>9.68</td>\n",
       "      <td>8.41</td>\n",
       "      <td>8.86</td>\n",
       "      <td>7.91</td>\n",
       "      <td>7.95</td>\n",
       "      <td>...</td>\n",
       "      <td>8.18</td>\n",
       "      <td>9.36</td>\n",
       "      <td>8.91</td>\n",
       "      <td>9.05</td>\n",
       "      <td>9.91</td>\n",
       "      <td>7.36</td>\n",
       "      <td>10.0</td>\n",
       "      <td>9.45</td>\n",
       "      <td>9.14</td>\n",
       "      <td>9.68</td>\n",
       "    </tr>\n",
       "    <tr>\n",
       "      <th>9</th>\n",
       "      <td>sgpa_8</td>\n",
       "      <td>NaN</td>\n",
       "      <td>9.17</td>\n",
       "      <td>8.83</td>\n",
       "      <td>7.67</td>\n",
       "      <td>9.83</td>\n",
       "      <td>7.5</td>\n",
       "      <td>9.0</td>\n",
       "      <td>8.33</td>\n",
       "      <td>8.5</td>\n",
       "      <td>...</td>\n",
       "      <td>7.83</td>\n",
       "      <td>9.67</td>\n",
       "      <td>NaN</td>\n",
       "      <td>9.17</td>\n",
       "      <td>9.5</td>\n",
       "      <td>6.83</td>\n",
       "      <td>10.0</td>\n",
       "      <td>9.67</td>\n",
       "      <td>9.5</td>\n",
       "      <td>NaN</td>\n",
       "    </tr>\n",
       "  </tbody>\n",
       "</table>\n",
       "<p>8 rows × 31 columns</p>\n",
       "</div>"
      ]
     },
     "execution_count": 15,
     "metadata": {},
     "output_type": "execute_result"
    }
   ],
   "execution_count": 15
  },
  {
   "metadata": {
    "ExecuteTime": {
     "end_time": "2025-06-21T12:48:30.982962Z",
     "start_time": "2025-06-21T12:48:30.975070Z"
    }
   },
   "cell_type": "code",
   "source": "transposed_sgpa = transposed_sgpa.reset_index(drop=True)",
   "id": "2a9cb72969dd993c",
   "outputs": [],
   "execution_count": 16
  },
  {
   "metadata": {
    "ExecuteTime": {
     "end_time": "2025-06-21T12:48:31.362300Z",
     "start_time": "2025-06-21T12:48:31.345014Z"
    }
   },
   "cell_type": "code",
   "source": "transposed_sgpa",
   "id": "52fc83dbdfb0e99f",
   "outputs": [
    {
     "data": {
      "text/plain": [
       "1 semester ARADHANA DILIP CUNCOLCAR ARIN RATHORE ASHISH SINGH CHAUHAN  ATUL  \\\n",
       "0   sgpa_1                     7.45         9.68                  9.0   8.0   \n",
       "1   sgpa_2                     7.05         9.43                 8.29   8.0   \n",
       "2   sgpa_3                     6.67         9.52                 8.57  7.29   \n",
       "3   sgpa_4                      6.7         10.0                  9.1  8.35   \n",
       "4   sgpa_5                     7.33          8.9                  8.0  7.38   \n",
       "5   sgpa_6                      6.8          9.4                 7.55  7.35   \n",
       "6   sgpa_7                     7.59         9.68                 8.59  8.23   \n",
       "7   sgpa_8                      NaN         9.17                 8.83  7.67   \n",
       "\n",
       "1 BOGGARAPU VENKATA VAMSI KRISHNA DAKSHAL VINAYAK SHETYE DEEKSHA YADAV  \\\n",
       "0                            9.68                   8.68          9.86   \n",
       "1                            9.57                    8.0          8.95   \n",
       "2                            9.24                   7.81          8.48   \n",
       "3                            9.85                   8.55           9.0   \n",
       "4                             9.1                   8.48          8.38   \n",
       "5                             9.6                    8.2           8.2   \n",
       "6                            9.68                   8.41          8.86   \n",
       "7                            9.83                    7.5           9.0   \n",
       "\n",
       "1 DIYA JOSHI JOYAL JOSEPH  ... SANKET SURAJ USGAONKAR SHRAVANI BIPIN PAWAR  \\\n",
       "0       8.23         7.91  ...                   7.91                  9.5   \n",
       "1       6.67         8.19  ...                   7.29                 8.67   \n",
       "2       6.43         8.33  ...                   6.62                 8.95   \n",
       "3       7.45          8.2  ...                   7.45                  9.3   \n",
       "4       6.62         7.62  ...                   7.62                 9.71   \n",
       "5       6.54          7.6  ...                   7.08                  9.0   \n",
       "6       7.91         7.95  ...                   8.18                 9.36   \n",
       "7       8.33          8.5  ...                   7.83                 9.67   \n",
       "\n",
       "1 SHRUTI BALASAHEB PATIL TUSHAR PAL VAIBHAV YADAV VISHAL PRATAP ARUN UPADHYAY  \\\n",
       "0                   9.36       8.95          9.14          8.09          10.0   \n",
       "1                   7.86       8.52          8.76          6.67          10.0   \n",
       "2                   7.71       9.24          9.52          6.62          9.62   \n",
       "3                    7.8       8.95          9.75           6.6          10.0   \n",
       "4                   7.71       8.76          9.43          6.71           9.9   \n",
       "5                    7.8       8.55           9.3          6.32          10.0   \n",
       "6                   8.91       9.05          9.91          7.36          10.0   \n",
       "7                    NaN       9.17           9.5          6.83          10.0   \n",
       "\n",
       "1 MORUSU GUNASEKHAR REDDY AKASH ABHILASH ABHISHEK CHOUKUSE  \n",
       "0                    9.43           9.29              9.55  \n",
       "1                    9.23           9.05              8.76  \n",
       "2                    9.29            9.1               9.1  \n",
       "3                     9.6           8.95              9.45  \n",
       "4                    9.29            9.1               8.9  \n",
       "5                    9.79            9.0              8.65  \n",
       "6                    9.45           9.14              9.68  \n",
       "7                    9.67            9.5               NaN  \n",
       "\n",
       "[8 rows x 31 columns]"
      ],
      "text/html": [
       "<div>\n",
       "<style scoped>\n",
       "    .dataframe tbody tr th:only-of-type {\n",
       "        vertical-align: middle;\n",
       "    }\n",
       "\n",
       "    .dataframe tbody tr th {\n",
       "        vertical-align: top;\n",
       "    }\n",
       "\n",
       "    .dataframe thead th {\n",
       "        text-align: right;\n",
       "    }\n",
       "</style>\n",
       "<table border=\"1\" class=\"dataframe\">\n",
       "  <thead>\n",
       "    <tr style=\"text-align: right;\">\n",
       "      <th>1</th>\n",
       "      <th>semester</th>\n",
       "      <th>ARADHANA DILIP CUNCOLCAR</th>\n",
       "      <th>ARIN RATHORE</th>\n",
       "      <th>ASHISH SINGH CHAUHAN</th>\n",
       "      <th>ATUL</th>\n",
       "      <th>BOGGARAPU VENKATA VAMSI KRISHNA</th>\n",
       "      <th>DAKSHAL VINAYAK SHETYE</th>\n",
       "      <th>DEEKSHA YADAV</th>\n",
       "      <th>DIYA JOSHI</th>\n",
       "      <th>JOYAL JOSEPH</th>\n",
       "      <th>...</th>\n",
       "      <th>SANKET SURAJ USGAONKAR</th>\n",
       "      <th>SHRAVANI BIPIN PAWAR</th>\n",
       "      <th>SHRUTI BALASAHEB PATIL</th>\n",
       "      <th>TUSHAR PAL</th>\n",
       "      <th>VAIBHAV YADAV</th>\n",
       "      <th>VISHAL PRATAP</th>\n",
       "      <th>ARUN UPADHYAY</th>\n",
       "      <th>MORUSU GUNASEKHAR REDDY</th>\n",
       "      <th>AKASH ABHILASH</th>\n",
       "      <th>ABHISHEK CHOUKUSE</th>\n",
       "    </tr>\n",
       "  </thead>\n",
       "  <tbody>\n",
       "    <tr>\n",
       "      <th>0</th>\n",
       "      <td>sgpa_1</td>\n",
       "      <td>7.45</td>\n",
       "      <td>9.68</td>\n",
       "      <td>9.0</td>\n",
       "      <td>8.0</td>\n",
       "      <td>9.68</td>\n",
       "      <td>8.68</td>\n",
       "      <td>9.86</td>\n",
       "      <td>8.23</td>\n",
       "      <td>7.91</td>\n",
       "      <td>...</td>\n",
       "      <td>7.91</td>\n",
       "      <td>9.5</td>\n",
       "      <td>9.36</td>\n",
       "      <td>8.95</td>\n",
       "      <td>9.14</td>\n",
       "      <td>8.09</td>\n",
       "      <td>10.0</td>\n",
       "      <td>9.43</td>\n",
       "      <td>9.29</td>\n",
       "      <td>9.55</td>\n",
       "    </tr>\n",
       "    <tr>\n",
       "      <th>1</th>\n",
       "      <td>sgpa_2</td>\n",
       "      <td>7.05</td>\n",
       "      <td>9.43</td>\n",
       "      <td>8.29</td>\n",
       "      <td>8.0</td>\n",
       "      <td>9.57</td>\n",
       "      <td>8.0</td>\n",
       "      <td>8.95</td>\n",
       "      <td>6.67</td>\n",
       "      <td>8.19</td>\n",
       "      <td>...</td>\n",
       "      <td>7.29</td>\n",
       "      <td>8.67</td>\n",
       "      <td>7.86</td>\n",
       "      <td>8.52</td>\n",
       "      <td>8.76</td>\n",
       "      <td>6.67</td>\n",
       "      <td>10.0</td>\n",
       "      <td>9.23</td>\n",
       "      <td>9.05</td>\n",
       "      <td>8.76</td>\n",
       "    </tr>\n",
       "    <tr>\n",
       "      <th>2</th>\n",
       "      <td>sgpa_3</td>\n",
       "      <td>6.67</td>\n",
       "      <td>9.52</td>\n",
       "      <td>8.57</td>\n",
       "      <td>7.29</td>\n",
       "      <td>9.24</td>\n",
       "      <td>7.81</td>\n",
       "      <td>8.48</td>\n",
       "      <td>6.43</td>\n",
       "      <td>8.33</td>\n",
       "      <td>...</td>\n",
       "      <td>6.62</td>\n",
       "      <td>8.95</td>\n",
       "      <td>7.71</td>\n",
       "      <td>9.24</td>\n",
       "      <td>9.52</td>\n",
       "      <td>6.62</td>\n",
       "      <td>9.62</td>\n",
       "      <td>9.29</td>\n",
       "      <td>9.1</td>\n",
       "      <td>9.1</td>\n",
       "    </tr>\n",
       "    <tr>\n",
       "      <th>3</th>\n",
       "      <td>sgpa_4</td>\n",
       "      <td>6.7</td>\n",
       "      <td>10.0</td>\n",
       "      <td>9.1</td>\n",
       "      <td>8.35</td>\n",
       "      <td>9.85</td>\n",
       "      <td>8.55</td>\n",
       "      <td>9.0</td>\n",
       "      <td>7.45</td>\n",
       "      <td>8.2</td>\n",
       "      <td>...</td>\n",
       "      <td>7.45</td>\n",
       "      <td>9.3</td>\n",
       "      <td>7.8</td>\n",
       "      <td>8.95</td>\n",
       "      <td>9.75</td>\n",
       "      <td>6.6</td>\n",
       "      <td>10.0</td>\n",
       "      <td>9.6</td>\n",
       "      <td>8.95</td>\n",
       "      <td>9.45</td>\n",
       "    </tr>\n",
       "    <tr>\n",
       "      <th>4</th>\n",
       "      <td>sgpa_5</td>\n",
       "      <td>7.33</td>\n",
       "      <td>8.9</td>\n",
       "      <td>8.0</td>\n",
       "      <td>7.38</td>\n",
       "      <td>9.1</td>\n",
       "      <td>8.48</td>\n",
       "      <td>8.38</td>\n",
       "      <td>6.62</td>\n",
       "      <td>7.62</td>\n",
       "      <td>...</td>\n",
       "      <td>7.62</td>\n",
       "      <td>9.71</td>\n",
       "      <td>7.71</td>\n",
       "      <td>8.76</td>\n",
       "      <td>9.43</td>\n",
       "      <td>6.71</td>\n",
       "      <td>9.9</td>\n",
       "      <td>9.29</td>\n",
       "      <td>9.1</td>\n",
       "      <td>8.9</td>\n",
       "    </tr>\n",
       "    <tr>\n",
       "      <th>5</th>\n",
       "      <td>sgpa_6</td>\n",
       "      <td>6.8</td>\n",
       "      <td>9.4</td>\n",
       "      <td>7.55</td>\n",
       "      <td>7.35</td>\n",
       "      <td>9.6</td>\n",
       "      <td>8.2</td>\n",
       "      <td>8.2</td>\n",
       "      <td>6.54</td>\n",
       "      <td>7.6</td>\n",
       "      <td>...</td>\n",
       "      <td>7.08</td>\n",
       "      <td>9.0</td>\n",
       "      <td>7.8</td>\n",
       "      <td>8.55</td>\n",
       "      <td>9.3</td>\n",
       "      <td>6.32</td>\n",
       "      <td>10.0</td>\n",
       "      <td>9.79</td>\n",
       "      <td>9.0</td>\n",
       "      <td>8.65</td>\n",
       "    </tr>\n",
       "    <tr>\n",
       "      <th>6</th>\n",
       "      <td>sgpa_7</td>\n",
       "      <td>7.59</td>\n",
       "      <td>9.68</td>\n",
       "      <td>8.59</td>\n",
       "      <td>8.23</td>\n",
       "      <td>9.68</td>\n",
       "      <td>8.41</td>\n",
       "      <td>8.86</td>\n",
       "      <td>7.91</td>\n",
       "      <td>7.95</td>\n",
       "      <td>...</td>\n",
       "      <td>8.18</td>\n",
       "      <td>9.36</td>\n",
       "      <td>8.91</td>\n",
       "      <td>9.05</td>\n",
       "      <td>9.91</td>\n",
       "      <td>7.36</td>\n",
       "      <td>10.0</td>\n",
       "      <td>9.45</td>\n",
       "      <td>9.14</td>\n",
       "      <td>9.68</td>\n",
       "    </tr>\n",
       "    <tr>\n",
       "      <th>7</th>\n",
       "      <td>sgpa_8</td>\n",
       "      <td>NaN</td>\n",
       "      <td>9.17</td>\n",
       "      <td>8.83</td>\n",
       "      <td>7.67</td>\n",
       "      <td>9.83</td>\n",
       "      <td>7.5</td>\n",
       "      <td>9.0</td>\n",
       "      <td>8.33</td>\n",
       "      <td>8.5</td>\n",
       "      <td>...</td>\n",
       "      <td>7.83</td>\n",
       "      <td>9.67</td>\n",
       "      <td>NaN</td>\n",
       "      <td>9.17</td>\n",
       "      <td>9.5</td>\n",
       "      <td>6.83</td>\n",
       "      <td>10.0</td>\n",
       "      <td>9.67</td>\n",
       "      <td>9.5</td>\n",
       "      <td>NaN</td>\n",
       "    </tr>\n",
       "  </tbody>\n",
       "</table>\n",
       "<p>8 rows × 31 columns</p>\n",
       "</div>"
      ]
     },
     "execution_count": 17,
     "metadata": {},
     "output_type": "execute_result"
    }
   ],
   "execution_count": 17
  },
  {
   "metadata": {
    "ExecuteTime": {
     "end_time": "2025-06-21T12:48:32.454580Z",
     "start_time": "2025-06-21T12:48:31.739493Z"
    }
   },
   "cell_type": "code",
   "source": [
    "import plotly.express as px\n",
    "\n",
    "fig = px.line(transposed_sgpa, x=\"semester\", y=\"ASHISH SINGH CHAUHAN\",\n",
    "              title='SGPA Chart',\n",
    "              markers=True,\n",
    "              labels={\n",
    "                     \"semester\": \"Semester\",\n",
    "                     \"ASHISH SINGH CHAUHAN\": \"SGPA\"\n",
    "                 })\n",
    "fig.update_yaxes(range=[0, 10])\n",
    "# fig.update_yaxes(rangemode=\"tozero\")\n",
    "fig.update_yaxes(autorangeoptions={\"minallowed\":1})\n",
    "\n",
    "fig.show()"
   ],
   "id": "785e26c9ce9e2fab",
   "outputs": [
    {
     "data": {
      "application/vnd.plotly.v1+json": {
       "data": [
        {
         "hovertemplate": "Semester=%{x}<br>SGPA=%{y}<extra></extra>",
         "legendgroup": "",
         "line": {
          "color": "#636efa",
          "dash": "solid"
         },
         "marker": {
          "symbol": "circle"
         },
         "mode": "lines+markers",
         "name": "",
         "orientation": "v",
         "showlegend": false,
         "x": [
          "sgpa_1",
          "sgpa_2",
          "sgpa_3",
          "sgpa_4",
          "sgpa_5",
          "sgpa_6",
          "sgpa_7",
          "sgpa_8"
         ],
         "xaxis": "x",
         "y": [
          9.0,
          8.29,
          8.57,
          9.1,
          8.0,
          7.55,
          8.59,
          8.83
         ],
         "yaxis": "y",
         "type": "scatter"
        }
       ],
       "layout": {
        "template": {
         "data": {
          "histogram2dcontour": [
           {
            "type": "histogram2dcontour",
            "colorbar": {
             "outlinewidth": 0,
             "ticks": ""
            },
            "colorscale": [
             [
              0.0,
              "#0d0887"
             ],
             [
              0.1111111111111111,
              "#46039f"
             ],
             [
              0.2222222222222222,
              "#7201a8"
             ],
             [
              0.3333333333333333,
              "#9c179e"
             ],
             [
              0.4444444444444444,
              "#bd3786"
             ],
             [
              0.5555555555555556,
              "#d8576b"
             ],
             [
              0.6666666666666666,
              "#ed7953"
             ],
             [
              0.7777777777777778,
              "#fb9f3a"
             ],
             [
              0.8888888888888888,
              "#fdca26"
             ],
             [
              1.0,
              "#f0f921"
             ]
            ]
           }
          ],
          "choropleth": [
           {
            "type": "choropleth",
            "colorbar": {
             "outlinewidth": 0,
             "ticks": ""
            }
           }
          ],
          "histogram2d": [
           {
            "type": "histogram2d",
            "colorbar": {
             "outlinewidth": 0,
             "ticks": ""
            },
            "colorscale": [
             [
              0.0,
              "#0d0887"
             ],
             [
              0.1111111111111111,
              "#46039f"
             ],
             [
              0.2222222222222222,
              "#7201a8"
             ],
             [
              0.3333333333333333,
              "#9c179e"
             ],
             [
              0.4444444444444444,
              "#bd3786"
             ],
             [
              0.5555555555555556,
              "#d8576b"
             ],
             [
              0.6666666666666666,
              "#ed7953"
             ],
             [
              0.7777777777777778,
              "#fb9f3a"
             ],
             [
              0.8888888888888888,
              "#fdca26"
             ],
             [
              1.0,
              "#f0f921"
             ]
            ]
           }
          ],
          "heatmap": [
           {
            "type": "heatmap",
            "colorbar": {
             "outlinewidth": 0,
             "ticks": ""
            },
            "colorscale": [
             [
              0.0,
              "#0d0887"
             ],
             [
              0.1111111111111111,
              "#46039f"
             ],
             [
              0.2222222222222222,
              "#7201a8"
             ],
             [
              0.3333333333333333,
              "#9c179e"
             ],
             [
              0.4444444444444444,
              "#bd3786"
             ],
             [
              0.5555555555555556,
              "#d8576b"
             ],
             [
              0.6666666666666666,
              "#ed7953"
             ],
             [
              0.7777777777777778,
              "#fb9f3a"
             ],
             [
              0.8888888888888888,
              "#fdca26"
             ],
             [
              1.0,
              "#f0f921"
             ]
            ]
           }
          ],
          "contourcarpet": [
           {
            "type": "contourcarpet",
            "colorbar": {
             "outlinewidth": 0,
             "ticks": ""
            }
           }
          ],
          "contour": [
           {
            "type": "contour",
            "colorbar": {
             "outlinewidth": 0,
             "ticks": ""
            },
            "colorscale": [
             [
              0.0,
              "#0d0887"
             ],
             [
              0.1111111111111111,
              "#46039f"
             ],
             [
              0.2222222222222222,
              "#7201a8"
             ],
             [
              0.3333333333333333,
              "#9c179e"
             ],
             [
              0.4444444444444444,
              "#bd3786"
             ],
             [
              0.5555555555555556,
              "#d8576b"
             ],
             [
              0.6666666666666666,
              "#ed7953"
             ],
             [
              0.7777777777777778,
              "#fb9f3a"
             ],
             [
              0.8888888888888888,
              "#fdca26"
             ],
             [
              1.0,
              "#f0f921"
             ]
            ]
           }
          ],
          "surface": [
           {
            "type": "surface",
            "colorbar": {
             "outlinewidth": 0,
             "ticks": ""
            },
            "colorscale": [
             [
              0.0,
              "#0d0887"
             ],
             [
              0.1111111111111111,
              "#46039f"
             ],
             [
              0.2222222222222222,
              "#7201a8"
             ],
             [
              0.3333333333333333,
              "#9c179e"
             ],
             [
              0.4444444444444444,
              "#bd3786"
             ],
             [
              0.5555555555555556,
              "#d8576b"
             ],
             [
              0.6666666666666666,
              "#ed7953"
             ],
             [
              0.7777777777777778,
              "#fb9f3a"
             ],
             [
              0.8888888888888888,
              "#fdca26"
             ],
             [
              1.0,
              "#f0f921"
             ]
            ]
           }
          ],
          "mesh3d": [
           {
            "type": "mesh3d",
            "colorbar": {
             "outlinewidth": 0,
             "ticks": ""
            }
           }
          ],
          "scatter": [
           {
            "marker": {
             "line": {
              "color": "#283442"
             }
            },
            "type": "scatter"
           }
          ],
          "parcoords": [
           {
            "type": "parcoords",
            "line": {
             "colorbar": {
              "outlinewidth": 0,
              "ticks": ""
             }
            }
           }
          ],
          "scatterpolargl": [
           {
            "type": "scatterpolargl",
            "marker": {
             "colorbar": {
              "outlinewidth": 0,
              "ticks": ""
             }
            }
           }
          ],
          "bar": [
           {
            "error_x": {
             "color": "#f2f5fa"
            },
            "error_y": {
             "color": "#f2f5fa"
            },
            "marker": {
             "line": {
              "color": "rgb(17,17,17)",
              "width": 0.5
             },
             "pattern": {
              "fillmode": "overlay",
              "size": 10,
              "solidity": 0.2
             }
            },
            "type": "bar"
           }
          ],
          "scattergeo": [
           {
            "type": "scattergeo",
            "marker": {
             "colorbar": {
              "outlinewidth": 0,
              "ticks": ""
             }
            }
           }
          ],
          "scatterpolar": [
           {
            "type": "scatterpolar",
            "marker": {
             "colorbar": {
              "outlinewidth": 0,
              "ticks": ""
             }
            }
           }
          ],
          "histogram": [
           {
            "marker": {
             "pattern": {
              "fillmode": "overlay",
              "size": 10,
              "solidity": 0.2
             }
            },
            "type": "histogram"
           }
          ],
          "scattergl": [
           {
            "marker": {
             "line": {
              "color": "#283442"
             }
            },
            "type": "scattergl"
           }
          ],
          "scatter3d": [
           {
            "type": "scatter3d",
            "line": {
             "colorbar": {
              "outlinewidth": 0,
              "ticks": ""
             }
            },
            "marker": {
             "colorbar": {
              "outlinewidth": 0,
              "ticks": ""
             }
            }
           }
          ],
          "scattermap": [
           {
            "type": "scattermap",
            "marker": {
             "colorbar": {
              "outlinewidth": 0,
              "ticks": ""
             }
            }
           }
          ],
          "scattermapbox": [
           {
            "type": "scattermapbox",
            "marker": {
             "colorbar": {
              "outlinewidth": 0,
              "ticks": ""
             }
            }
           }
          ],
          "scatterternary": [
           {
            "type": "scatterternary",
            "marker": {
             "colorbar": {
              "outlinewidth": 0,
              "ticks": ""
             }
            }
           }
          ],
          "scattercarpet": [
           {
            "type": "scattercarpet",
            "marker": {
             "colorbar": {
              "outlinewidth": 0,
              "ticks": ""
             }
            }
           }
          ],
          "carpet": [
           {
            "aaxis": {
             "endlinecolor": "#A2B1C6",
             "gridcolor": "#506784",
             "linecolor": "#506784",
             "minorgridcolor": "#506784",
             "startlinecolor": "#A2B1C6"
            },
            "baxis": {
             "endlinecolor": "#A2B1C6",
             "gridcolor": "#506784",
             "linecolor": "#506784",
             "minorgridcolor": "#506784",
             "startlinecolor": "#A2B1C6"
            },
            "type": "carpet"
           }
          ],
          "table": [
           {
            "cells": {
             "fill": {
              "color": "#506784"
             },
             "line": {
              "color": "rgb(17,17,17)"
             }
            },
            "header": {
             "fill": {
              "color": "#2a3f5f"
             },
             "line": {
              "color": "rgb(17,17,17)"
             }
            },
            "type": "table"
           }
          ],
          "barpolar": [
           {
            "marker": {
             "line": {
              "color": "rgb(17,17,17)",
              "width": 0.5
             },
             "pattern": {
              "fillmode": "overlay",
              "size": 10,
              "solidity": 0.2
             }
            },
            "type": "barpolar"
           }
          ],
          "pie": [
           {
            "automargin": true,
            "type": "pie"
           }
          ]
         },
         "layout": {
          "autotypenumbers": "strict",
          "colorway": [
           "#636efa",
           "#EF553B",
           "#00cc96",
           "#ab63fa",
           "#FFA15A",
           "#19d3f3",
           "#FF6692",
           "#B6E880",
           "#FF97FF",
           "#FECB52"
          ],
          "font": {
           "color": "#f2f5fa"
          },
          "hovermode": "closest",
          "hoverlabel": {
           "align": "left"
          },
          "paper_bgcolor": "rgb(17,17,17)",
          "plot_bgcolor": "rgb(17,17,17)",
          "polar": {
           "bgcolor": "rgb(17,17,17)",
           "angularaxis": {
            "gridcolor": "#506784",
            "linecolor": "#506784",
            "ticks": ""
           },
           "radialaxis": {
            "gridcolor": "#506784",
            "linecolor": "#506784",
            "ticks": ""
           }
          },
          "ternary": {
           "bgcolor": "rgb(17,17,17)",
           "aaxis": {
            "gridcolor": "#506784",
            "linecolor": "#506784",
            "ticks": ""
           },
           "baxis": {
            "gridcolor": "#506784",
            "linecolor": "#506784",
            "ticks": ""
           },
           "caxis": {
            "gridcolor": "#506784",
            "linecolor": "#506784",
            "ticks": ""
           }
          },
          "coloraxis": {
           "colorbar": {
            "outlinewidth": 0,
            "ticks": ""
           }
          },
          "colorscale": {
           "sequential": [
            [
             0.0,
             "#0d0887"
            ],
            [
             0.1111111111111111,
             "#46039f"
            ],
            [
             0.2222222222222222,
             "#7201a8"
            ],
            [
             0.3333333333333333,
             "#9c179e"
            ],
            [
             0.4444444444444444,
             "#bd3786"
            ],
            [
             0.5555555555555556,
             "#d8576b"
            ],
            [
             0.6666666666666666,
             "#ed7953"
            ],
            [
             0.7777777777777778,
             "#fb9f3a"
            ],
            [
             0.8888888888888888,
             "#fdca26"
            ],
            [
             1.0,
             "#f0f921"
            ]
           ],
           "sequentialminus": [
            [
             0.0,
             "#0d0887"
            ],
            [
             0.1111111111111111,
             "#46039f"
            ],
            [
             0.2222222222222222,
             "#7201a8"
            ],
            [
             0.3333333333333333,
             "#9c179e"
            ],
            [
             0.4444444444444444,
             "#bd3786"
            ],
            [
             0.5555555555555556,
             "#d8576b"
            ],
            [
             0.6666666666666666,
             "#ed7953"
            ],
            [
             0.7777777777777778,
             "#fb9f3a"
            ],
            [
             0.8888888888888888,
             "#fdca26"
            ],
            [
             1.0,
             "#f0f921"
            ]
           ],
           "diverging": [
            [
             0,
             "#8e0152"
            ],
            [
             0.1,
             "#c51b7d"
            ],
            [
             0.2,
             "#de77ae"
            ],
            [
             0.3,
             "#f1b6da"
            ],
            [
             0.4,
             "#fde0ef"
            ],
            [
             0.5,
             "#f7f7f7"
            ],
            [
             0.6,
             "#e6f5d0"
            ],
            [
             0.7,
             "#b8e186"
            ],
            [
             0.8,
             "#7fbc41"
            ],
            [
             0.9,
             "#4d9221"
            ],
            [
             1,
             "#276419"
            ]
           ]
          },
          "xaxis": {
           "gridcolor": "#283442",
           "linecolor": "#506784",
           "ticks": "",
           "title": {
            "standoff": 15
           },
           "zerolinecolor": "#283442",
           "automargin": true,
           "zerolinewidth": 2
          },
          "yaxis": {
           "gridcolor": "#283442",
           "linecolor": "#506784",
           "ticks": "",
           "title": {
            "standoff": 15
           },
           "zerolinecolor": "#283442",
           "automargin": true,
           "zerolinewidth": 2
          },
          "scene": {
           "xaxis": {
            "backgroundcolor": "rgb(17,17,17)",
            "gridcolor": "#506784",
            "linecolor": "#506784",
            "showbackground": true,
            "ticks": "",
            "zerolinecolor": "#C8D4E3",
            "gridwidth": 2
           },
           "yaxis": {
            "backgroundcolor": "rgb(17,17,17)",
            "gridcolor": "#506784",
            "linecolor": "#506784",
            "showbackground": true,
            "ticks": "",
            "zerolinecolor": "#C8D4E3",
            "gridwidth": 2
           },
           "zaxis": {
            "backgroundcolor": "rgb(17,17,17)",
            "gridcolor": "#506784",
            "linecolor": "#506784",
            "showbackground": true,
            "ticks": "",
            "zerolinecolor": "#C8D4E3",
            "gridwidth": 2
           }
          },
          "shapedefaults": {
           "line": {
            "color": "#f2f5fa"
           }
          },
          "annotationdefaults": {
           "arrowcolor": "#f2f5fa",
           "arrowhead": 0,
           "arrowwidth": 1
          },
          "geo": {
           "bgcolor": "rgb(17,17,17)",
           "landcolor": "rgb(17,17,17)",
           "subunitcolor": "#506784",
           "showland": true,
           "showlakes": true,
           "lakecolor": "rgb(17,17,17)"
          },
          "title": {
           "x": 0.05
          },
          "updatemenudefaults": {
           "bgcolor": "#506784",
           "borderwidth": 0
          },
          "sliderdefaults": {
           "bgcolor": "#C8D4E3",
           "borderwidth": 1,
           "bordercolor": "rgb(17,17,17)",
           "tickwidth": 0
          },
          "mapbox": {
           "style": "dark"
          }
         }
        },
        "xaxis": {
         "anchor": "y",
         "domain": [
          0.0,
          1.0
         ],
         "title": {
          "text": "Semester"
         }
        },
        "yaxis": {
         "anchor": "x",
         "domain": [
          0.0,
          1.0
         ],
         "title": {
          "text": "SGPA"
         },
         "range": [
          0,
          10
         ],
         "autorangeoptions": {
          "minallowed": 1
         }
        },
        "legend": {
         "tracegroupgap": 0
        },
        "title": {
         "text": "SGPA Chart"
        }
       },
       "config": {
        "plotlyServerURL": "https://plot.ly"
       }
      }
     },
     "metadata": {},
     "output_type": "display_data"
    }
   ],
   "execution_count": 18
  },
  {
   "metadata": {
    "ExecuteTime": {
     "end_time": "2025-06-21T12:59:54.647866Z",
     "start_time": "2025-06-21T12:59:54.458420Z"
    }
   },
   "cell_type": "code",
   "source": [
    "import plotly.express as px\n",
    "fig = px.bar(sgpa, x='student name', y='sgpa_8', title='SGPA Chart', color='student name')\n",
    "fig.update_layout(xaxis={'categoryorder':'total descending'})\n",
    "fig.show()"
   ],
   "id": "38087aa6ff002edb",
   "outputs": [
    {
     "data": {
      "application/vnd.plotly.v1+json": {
       "data": [
        {
         "hovertemplate": "student name=%{x}<br>sgpa_8=%{y}<extra></extra>",
         "legendgroup": "ARADHANA DILIP CUNCOLCAR",
         "marker": {
          "color": "#636efa",
          "pattern": {
           "shape": ""
          }
         },
         "name": "ARADHANA DILIP CUNCOLCAR",
         "orientation": "v",
         "showlegend": true,
         "textposition": "auto",
         "x": [
          "ARADHANA DILIP CUNCOLCAR"
         ],
         "xaxis": "x",
         "y": {
          "dtype": "f8",
          "bdata": "AAAAAAAA+H8="
         },
         "yaxis": "y",
         "type": "bar"
        },
        {
         "hovertemplate": "student name=%{x}<br>sgpa_8=%{y}<extra></extra>",
         "legendgroup": "ARIN RATHORE",
         "marker": {
          "color": "#EF553B",
          "pattern": {
           "shape": ""
          }
         },
         "name": "ARIN RATHORE",
         "orientation": "v",
         "showlegend": true,
         "textposition": "auto",
         "x": [
          "ARIN RATHORE"
         ],
         "xaxis": "x",
         "y": {
          "dtype": "f8",
          "bdata": "16NwPQpXIkA="
         },
         "yaxis": "y",
         "type": "bar"
        },
        {
         "hovertemplate": "student name=%{x}<br>sgpa_8=%{y}<extra></extra>",
         "legendgroup": "ASHISH SINGH CHAUHAN",
         "marker": {
          "color": "#00cc96",
          "pattern": {
           "shape": ""
          }
         },
         "name": "ASHISH SINGH CHAUHAN",
         "orientation": "v",
         "showlegend": true,
         "textposition": "auto",
         "x": [
          "ASHISH SINGH CHAUHAN"
         ],
         "xaxis": "x",
         "y": {
          "dtype": "f8",
          "bdata": "KVyPwvWoIUA="
         },
         "yaxis": "y",
         "type": "bar"
        },
        {
         "hovertemplate": "student name=%{x}<br>sgpa_8=%{y}<extra></extra>",
         "legendgroup": "ATUL",
         "marker": {
          "color": "#ab63fa",
          "pattern": {
           "shape": ""
          }
         },
         "name": "ATUL",
         "orientation": "v",
         "showlegend": true,
         "textposition": "auto",
         "x": [
          "ATUL"
         ],
         "xaxis": "x",
         "y": {
          "dtype": "f8",
          "bdata": "rkfhehSuHkA="
         },
         "yaxis": "y",
         "type": "bar"
        },
        {
         "hovertemplate": "student name=%{x}<br>sgpa_8=%{y}<extra></extra>",
         "legendgroup": "BOGGARAPU VENKATA VAMSI KRISHNA",
         "marker": {
          "color": "#FFA15A",
          "pattern": {
           "shape": ""
          }
         },
         "name": "BOGGARAPU VENKATA VAMSI KRISHNA",
         "orientation": "v",
         "showlegend": true,
         "textposition": "auto",
         "x": [
          "BOGGARAPU VENKATA VAMSI KRISHNA"
         ],
         "xaxis": "x",
         "y": {
          "dtype": "f8",
          "bdata": "KVyPwvWoI0A="
         },
         "yaxis": "y",
         "type": "bar"
        },
        {
         "hovertemplate": "student name=%{x}<br>sgpa_8=%{y}<extra></extra>",
         "legendgroup": "DAKSHAL VINAYAK SHETYE",
         "marker": {
          "color": "#19d3f3",
          "pattern": {
           "shape": ""
          }
         },
         "name": "DAKSHAL VINAYAK SHETYE",
         "orientation": "v",
         "showlegend": true,
         "textposition": "auto",
         "x": [
          "DAKSHAL VINAYAK SHETYE"
         ],
         "xaxis": "x",
         "y": {
          "dtype": "f8",
          "bdata": "AAAAAAAAHkA="
         },
         "yaxis": "y",
         "type": "bar"
        },
        {
         "hovertemplate": "student name=%{x}<br>sgpa_8=%{y}<extra></extra>",
         "legendgroup": "DEEKSHA YADAV",
         "marker": {
          "color": "#FF6692",
          "pattern": {
           "shape": ""
          }
         },
         "name": "DEEKSHA YADAV",
         "orientation": "v",
         "showlegend": true,
         "textposition": "auto",
         "x": [
          "DEEKSHA YADAV"
         ],
         "xaxis": "x",
         "y": {
          "dtype": "f8",
          "bdata": "AAAAAAAAIkA="
         },
         "yaxis": "y",
         "type": "bar"
        },
        {
         "hovertemplate": "student name=%{x}<br>sgpa_8=%{y}<extra></extra>",
         "legendgroup": "DIYA JOSHI",
         "marker": {
          "color": "#B6E880",
          "pattern": {
           "shape": ""
          }
         },
         "name": "DIYA JOSHI",
         "orientation": "v",
         "showlegend": true,
         "textposition": "auto",
         "x": [
          "DIYA JOSHI"
         ],
         "xaxis": "x",
         "y": {
          "dtype": "f8",
          "bdata": "KVyPwvWoIEA="
         },
         "yaxis": "y",
         "type": "bar"
        },
        {
         "hovertemplate": "student name=%{x}<br>sgpa_8=%{y}<extra></extra>",
         "legendgroup": "JOYAL JOSEPH",
         "marker": {
          "color": "#FF97FF",
          "pattern": {
           "shape": ""
          }
         },
         "name": "JOYAL JOSEPH",
         "orientation": "v",
         "showlegend": true,
         "textposition": "auto",
         "x": [
          "JOYAL JOSEPH"
         ],
         "xaxis": "x",
         "y": {
          "dtype": "f8",
          "bdata": "AAAAAAAAIUA="
         },
         "yaxis": "y",
         "type": "bar"
        },
        {
         "hovertemplate": "student name=%{x}<br>sgpa_8=%{y}<extra></extra>",
         "legendgroup": "KARTHIK A",
         "marker": {
          "color": "#FECB52",
          "pattern": {
           "shape": ""
          }
         },
         "name": "KARTHIK A",
         "orientation": "v",
         "showlegend": true,
         "textposition": "auto",
         "x": [
          "KARTHIK A"
         ],
         "xaxis": "x",
         "y": {
          "dtype": "f8",
          "bdata": "AAAAAAAAIUA="
         },
         "yaxis": "y",
         "type": "bar"
        },
        {
         "hovertemplate": "student name=%{x}<br>sgpa_8=%{y}<extra></extra>",
         "legendgroup": "KETAN PURUSHOTTAM KUNKALIKAR",
         "marker": {
          "color": "#636efa",
          "pattern": {
           "shape": ""
          }
         },
         "name": "KETAN PURUSHOTTAM KUNKALIKAR",
         "orientation": "v",
         "showlegend": true,
         "textposition": "auto",
         "x": [
          "KETAN PURUSHOTTAM KUNKALIKAR"
         ],
         "xaxis": "x",
         "y": {
          "dtype": "f8",
          "bdata": "AAAAAAAA+H8="
         },
         "yaxis": "y",
         "type": "bar"
        },
        {
         "hovertemplate": "student name=%{x}<br>sgpa_8=%{y}<extra></extra>",
         "legendgroup": "M KAVYA",
         "marker": {
          "color": "#EF553B",
          "pattern": {
           "shape": ""
          }
         },
         "name": "M KAVYA",
         "orientation": "v",
         "showlegend": true,
         "textposition": "auto",
         "x": [
          "M KAVYA"
         ],
         "xaxis": "x",
         "y": {
          "dtype": "f8",
          "bdata": "16NwPQpXIUA="
         },
         "yaxis": "y",
         "type": "bar"
        },
        {
         "hovertemplate": "student name=%{x}<br>sgpa_8=%{y}<extra></extra>",
         "legendgroup": "MALLELA GANESH KUMAR REDDY",
         "marker": {
          "color": "#00cc96",
          "pattern": {
           "shape": ""
          }
         },
         "name": "MALLELA GANESH KUMAR REDDY",
         "orientation": "v",
         "showlegend": true,
         "textposition": "auto",
         "x": [
          "MALLELA GANESH KUMAR REDDY"
         ],
         "xaxis": "x",
         "y": {
          "dtype": "f8",
          "bdata": "16NwPQpXIUA="
         },
         "yaxis": "y",
         "type": "bar"
        },
        {
         "hovertemplate": "student name=%{x}<br>sgpa_8=%{y}<extra></extra>",
         "legendgroup": "N YUVRAJ",
         "marker": {
          "color": "#ab63fa",
          "pattern": {
           "shape": ""
          }
         },
         "name": "N YUVRAJ",
         "orientation": "v",
         "showlegend": true,
         "textposition": "auto",
         "x": [
          "N YUVRAJ"
         ],
         "xaxis": "x",
         "y": {
          "dtype": "f8",
          "bdata": "UrgehetRH0A="
         },
         "yaxis": "y",
         "type": "bar"
        },
        {
         "hovertemplate": "student name=%{x}<br>sgpa_8=%{y}<extra></extra>",
         "legendgroup": "NISCHAL GAJANAN PARULEKAR",
         "marker": {
          "color": "#FFA15A",
          "pattern": {
           "shape": ""
          }
         },
         "name": "NISCHAL GAJANAN PARULEKAR",
         "orientation": "v",
         "showlegend": true,
         "textposition": "auto",
         "x": [
          "NISCHAL GAJANAN PARULEKAR"
         ],
         "xaxis": "x",
         "y": {
          "dtype": "f8",
          "bdata": "AAAAAAAA+H8="
         },
         "yaxis": "y",
         "type": "bar"
        },
        {
         "hovertemplate": "student name=%{x}<br>sgpa_8=%{y}<extra></extra>",
         "legendgroup": "PERLI ARYAN NAGESWARARAO",
         "marker": {
          "color": "#19d3f3",
          "pattern": {
           "shape": ""
          }
         },
         "name": "PERLI ARYAN NAGESWARARAO",
         "orientation": "v",
         "showlegend": true,
         "textposition": "auto",
         "x": [
          "PERLI ARYAN NAGESWARARAO"
         ],
         "xaxis": "x",
         "y": {
          "dtype": "f8",
          "bdata": "AAAAAAAA+H8="
         },
         "yaxis": "y",
         "type": "bar"
        },
        {
         "hovertemplate": "student name=%{x}<br>sgpa_8=%{y}<extra></extra>",
         "legendgroup": "POOJA RAMDAS SONAWANE",
         "marker": {
          "color": "#FF6692",
          "pattern": {
           "shape": ""
          }
         },
         "name": "POOJA RAMDAS SONAWANE",
         "orientation": "v",
         "showlegend": true,
         "textposition": "auto",
         "x": [
          "POOJA RAMDAS SONAWANE"
         ],
         "xaxis": "x",
         "y": {
          "dtype": "f8",
          "bdata": "uB6F61G4HUA="
         },
         "yaxis": "y",
         "type": "bar"
        },
        {
         "hovertemplate": "student name=%{x}<br>sgpa_8=%{y}<extra></extra>",
         "legendgroup": "PRATIK PRAVIN NAIK",
         "marker": {
          "color": "#B6E880",
          "pattern": {
           "shape": ""
          }
         },
         "name": "PRATIK PRAVIN NAIK",
         "orientation": "v",
         "showlegend": true,
         "textposition": "auto",
         "x": [
          "PRATIK PRAVIN NAIK"
         ],
         "xaxis": "x",
         "y": {
          "dtype": "f8",
          "bdata": "AAAAAAAAIUA="
         },
         "yaxis": "y",
         "type": "bar"
        },
        {
         "hovertemplate": "student name=%{x}<br>sgpa_8=%{y}<extra></extra>",
         "legendgroup": "RAJ GUPTA",
         "marker": {
          "color": "#FF97FF",
          "pattern": {
           "shape": ""
          }
         },
         "name": "RAJ GUPTA",
         "orientation": "v",
         "showlegend": true,
         "textposition": "auto",
         "x": [
          "RAJ GUPTA"
         ],
         "xaxis": "x",
         "y": {
          "dtype": "f8",
          "bdata": "AAAAAAAA+H8="
         },
         "yaxis": "y",
         "type": "bar"
        },
        {
         "hovertemplate": "student name=%{x}<br>sgpa_8=%{y}<extra></extra>",
         "legendgroup": "RAJENDRA KUMAR",
         "marker": {
          "color": "#FECB52",
          "pattern": {
           "shape": ""
          }
         },
         "name": "RAJENDRA KUMAR",
         "orientation": "v",
         "showlegend": true,
         "textposition": "auto",
         "x": [
          "RAJENDRA KUMAR"
         ],
         "xaxis": "x",
         "y": {
          "dtype": "f8",
          "bdata": "16NwPQpXIkA="
         },
         "yaxis": "y",
         "type": "bar"
        },
        {
         "hovertemplate": "student name=%{x}<br>sgpa_8=%{y}<extra></extra>",
         "legendgroup": "SANKET SURAJ USGAONKAR",
         "marker": {
          "color": "#636efa",
          "pattern": {
           "shape": ""
          }
         },
         "name": "SANKET SURAJ USGAONKAR",
         "orientation": "v",
         "showlegend": true,
         "textposition": "auto",
         "x": [
          "SANKET SURAJ USGAONKAR"
         ],
         "xaxis": "x",
         "y": {
          "dtype": "f8",
          "bdata": "UrgehetRH0A="
         },
         "yaxis": "y",
         "type": "bar"
        },
        {
         "hovertemplate": "student name=%{x}<br>sgpa_8=%{y}<extra></extra>",
         "legendgroup": "SHRAVANI BIPIN PAWAR",
         "marker": {
          "color": "#EF553B",
          "pattern": {
           "shape": ""
          }
         },
         "name": "SHRAVANI BIPIN PAWAR",
         "orientation": "v",
         "showlegend": true,
         "textposition": "auto",
         "x": [
          "SHRAVANI BIPIN PAWAR"
         ],
         "xaxis": "x",
         "y": {
          "dtype": "f8",
          "bdata": "16NwPQpXI0A="
         },
         "yaxis": "y",
         "type": "bar"
        },
        {
         "hovertemplate": "student name=%{x}<br>sgpa_8=%{y}<extra></extra>",
         "legendgroup": "SHRUTI BALASAHEB PATIL",
         "marker": {
          "color": "#00cc96",
          "pattern": {
           "shape": ""
          }
         },
         "name": "SHRUTI BALASAHEB PATIL",
         "orientation": "v",
         "showlegend": true,
         "textposition": "auto",
         "x": [
          "SHRUTI BALASAHEB PATIL"
         ],
         "xaxis": "x",
         "y": {
          "dtype": "f8",
          "bdata": "AAAAAAAA+H8="
         },
         "yaxis": "y",
         "type": "bar"
        },
        {
         "hovertemplate": "student name=%{x}<br>sgpa_8=%{y}<extra></extra>",
         "legendgroup": "TUSHAR PAL",
         "marker": {
          "color": "#ab63fa",
          "pattern": {
           "shape": ""
          }
         },
         "name": "TUSHAR PAL",
         "orientation": "v",
         "showlegend": true,
         "textposition": "auto",
         "x": [
          "TUSHAR PAL"
         ],
         "xaxis": "x",
         "y": {
          "dtype": "f8",
          "bdata": "16NwPQpXIkA="
         },
         "yaxis": "y",
         "type": "bar"
        },
        {
         "hovertemplate": "student name=%{x}<br>sgpa_8=%{y}<extra></extra>",
         "legendgroup": "VAIBHAV YADAV",
         "marker": {
          "color": "#FFA15A",
          "pattern": {
           "shape": ""
          }
         },
         "name": "VAIBHAV YADAV",
         "orientation": "v",
         "showlegend": true,
         "textposition": "auto",
         "x": [
          "VAIBHAV YADAV"
         ],
         "xaxis": "x",
         "y": {
          "dtype": "f8",
          "bdata": "AAAAAAAAI0A="
         },
         "yaxis": "y",
         "type": "bar"
        },
        {
         "hovertemplate": "student name=%{x}<br>sgpa_8=%{y}<extra></extra>",
         "legendgroup": "VISHAL PRATAP",
         "marker": {
          "color": "#19d3f3",
          "pattern": {
           "shape": ""
          }
         },
         "name": "VISHAL PRATAP",
         "orientation": "v",
         "showlegend": true,
         "textposition": "auto",
         "x": [
          "VISHAL PRATAP"
         ],
         "xaxis": "x",
         "y": {
          "dtype": "f8",
          "bdata": "UrgehetRG0A="
         },
         "yaxis": "y",
         "type": "bar"
        },
        {
         "hovertemplate": "student name=%{x}<br>sgpa_8=%{y}<extra></extra>",
         "legendgroup": "ARUN UPADHYAY",
         "marker": {
          "color": "#FF6692",
          "pattern": {
           "shape": ""
          }
         },
         "name": "ARUN UPADHYAY",
         "orientation": "v",
         "showlegend": true,
         "textposition": "auto",
         "x": [
          "ARUN UPADHYAY"
         ],
         "xaxis": "x",
         "y": {
          "dtype": "f8",
          "bdata": "AAAAAAAAJEA="
         },
         "yaxis": "y",
         "type": "bar"
        },
        {
         "hovertemplate": "student name=%{x}<br>sgpa_8=%{y}<extra></extra>",
         "legendgroup": "MORUSU GUNASEKHAR REDDY",
         "marker": {
          "color": "#B6E880",
          "pattern": {
           "shape": ""
          }
         },
         "name": "MORUSU GUNASEKHAR REDDY",
         "orientation": "v",
         "showlegend": true,
         "textposition": "auto",
         "x": [
          "MORUSU GUNASEKHAR REDDY"
         ],
         "xaxis": "x",
         "y": {
          "dtype": "f8",
          "bdata": "16NwPQpXI0A="
         },
         "yaxis": "y",
         "type": "bar"
        },
        {
         "hovertemplate": "student name=%{x}<br>sgpa_8=%{y}<extra></extra>",
         "legendgroup": "AKASH ABHILASH",
         "marker": {
          "color": "#FF97FF",
          "pattern": {
           "shape": ""
          }
         },
         "name": "AKASH ABHILASH",
         "orientation": "v",
         "showlegend": true,
         "textposition": "auto",
         "x": [
          "AKASH ABHILASH"
         ],
         "xaxis": "x",
         "y": {
          "dtype": "f8",
          "bdata": "AAAAAAAAI0A="
         },
         "yaxis": "y",
         "type": "bar"
        },
        {
         "hovertemplate": "student name=%{x}<br>sgpa_8=%{y}<extra></extra>",
         "legendgroup": "ABHISHEK CHOUKUSE",
         "marker": {
          "color": "#FECB52",
          "pattern": {
           "shape": ""
          }
         },
         "name": "ABHISHEK CHOUKUSE",
         "orientation": "v",
         "showlegend": true,
         "textposition": "auto",
         "x": [
          "ABHISHEK CHOUKUSE"
         ],
         "xaxis": "x",
         "y": {
          "dtype": "f8",
          "bdata": "AAAAAAAA+H8="
         },
         "yaxis": "y",
         "type": "bar"
        }
       ],
       "layout": {
        "template": {
         "data": {
          "histogram2dcontour": [
           {
            "type": "histogram2dcontour",
            "colorbar": {
             "outlinewidth": 0,
             "ticks": ""
            },
            "colorscale": [
             [
              0.0,
              "#0d0887"
             ],
             [
              0.1111111111111111,
              "#46039f"
             ],
             [
              0.2222222222222222,
              "#7201a8"
             ],
             [
              0.3333333333333333,
              "#9c179e"
             ],
             [
              0.4444444444444444,
              "#bd3786"
             ],
             [
              0.5555555555555556,
              "#d8576b"
             ],
             [
              0.6666666666666666,
              "#ed7953"
             ],
             [
              0.7777777777777778,
              "#fb9f3a"
             ],
             [
              0.8888888888888888,
              "#fdca26"
             ],
             [
              1.0,
              "#f0f921"
             ]
            ]
           }
          ],
          "choropleth": [
           {
            "type": "choropleth",
            "colorbar": {
             "outlinewidth": 0,
             "ticks": ""
            }
           }
          ],
          "histogram2d": [
           {
            "type": "histogram2d",
            "colorbar": {
             "outlinewidth": 0,
             "ticks": ""
            },
            "colorscale": [
             [
              0.0,
              "#0d0887"
             ],
             [
              0.1111111111111111,
              "#46039f"
             ],
             [
              0.2222222222222222,
              "#7201a8"
             ],
             [
              0.3333333333333333,
              "#9c179e"
             ],
             [
              0.4444444444444444,
              "#bd3786"
             ],
             [
              0.5555555555555556,
              "#d8576b"
             ],
             [
              0.6666666666666666,
              "#ed7953"
             ],
             [
              0.7777777777777778,
              "#fb9f3a"
             ],
             [
              0.8888888888888888,
              "#fdca26"
             ],
             [
              1.0,
              "#f0f921"
             ]
            ]
           }
          ],
          "heatmap": [
           {
            "type": "heatmap",
            "colorbar": {
             "outlinewidth": 0,
             "ticks": ""
            },
            "colorscale": [
             [
              0.0,
              "#0d0887"
             ],
             [
              0.1111111111111111,
              "#46039f"
             ],
             [
              0.2222222222222222,
              "#7201a8"
             ],
             [
              0.3333333333333333,
              "#9c179e"
             ],
             [
              0.4444444444444444,
              "#bd3786"
             ],
             [
              0.5555555555555556,
              "#d8576b"
             ],
             [
              0.6666666666666666,
              "#ed7953"
             ],
             [
              0.7777777777777778,
              "#fb9f3a"
             ],
             [
              0.8888888888888888,
              "#fdca26"
             ],
             [
              1.0,
              "#f0f921"
             ]
            ]
           }
          ],
          "contourcarpet": [
           {
            "type": "contourcarpet",
            "colorbar": {
             "outlinewidth": 0,
             "ticks": ""
            }
           }
          ],
          "contour": [
           {
            "type": "contour",
            "colorbar": {
             "outlinewidth": 0,
             "ticks": ""
            },
            "colorscale": [
             [
              0.0,
              "#0d0887"
             ],
             [
              0.1111111111111111,
              "#46039f"
             ],
             [
              0.2222222222222222,
              "#7201a8"
             ],
             [
              0.3333333333333333,
              "#9c179e"
             ],
             [
              0.4444444444444444,
              "#bd3786"
             ],
             [
              0.5555555555555556,
              "#d8576b"
             ],
             [
              0.6666666666666666,
              "#ed7953"
             ],
             [
              0.7777777777777778,
              "#fb9f3a"
             ],
             [
              0.8888888888888888,
              "#fdca26"
             ],
             [
              1.0,
              "#f0f921"
             ]
            ]
           }
          ],
          "surface": [
           {
            "type": "surface",
            "colorbar": {
             "outlinewidth": 0,
             "ticks": ""
            },
            "colorscale": [
             [
              0.0,
              "#0d0887"
             ],
             [
              0.1111111111111111,
              "#46039f"
             ],
             [
              0.2222222222222222,
              "#7201a8"
             ],
             [
              0.3333333333333333,
              "#9c179e"
             ],
             [
              0.4444444444444444,
              "#bd3786"
             ],
             [
              0.5555555555555556,
              "#d8576b"
             ],
             [
              0.6666666666666666,
              "#ed7953"
             ],
             [
              0.7777777777777778,
              "#fb9f3a"
             ],
             [
              0.8888888888888888,
              "#fdca26"
             ],
             [
              1.0,
              "#f0f921"
             ]
            ]
           }
          ],
          "mesh3d": [
           {
            "type": "mesh3d",
            "colorbar": {
             "outlinewidth": 0,
             "ticks": ""
            }
           }
          ],
          "scatter": [
           {
            "marker": {
             "line": {
              "color": "#283442"
             }
            },
            "type": "scatter"
           }
          ],
          "parcoords": [
           {
            "type": "parcoords",
            "line": {
             "colorbar": {
              "outlinewidth": 0,
              "ticks": ""
             }
            }
           }
          ],
          "scatterpolargl": [
           {
            "type": "scatterpolargl",
            "marker": {
             "colorbar": {
              "outlinewidth": 0,
              "ticks": ""
             }
            }
           }
          ],
          "bar": [
           {
            "error_x": {
             "color": "#f2f5fa"
            },
            "error_y": {
             "color": "#f2f5fa"
            },
            "marker": {
             "line": {
              "color": "rgb(17,17,17)",
              "width": 0.5
             },
             "pattern": {
              "fillmode": "overlay",
              "size": 10,
              "solidity": 0.2
             }
            },
            "type": "bar"
           }
          ],
          "scattergeo": [
           {
            "type": "scattergeo",
            "marker": {
             "colorbar": {
              "outlinewidth": 0,
              "ticks": ""
             }
            }
           }
          ],
          "scatterpolar": [
           {
            "type": "scatterpolar",
            "marker": {
             "colorbar": {
              "outlinewidth": 0,
              "ticks": ""
             }
            }
           }
          ],
          "histogram": [
           {
            "marker": {
             "pattern": {
              "fillmode": "overlay",
              "size": 10,
              "solidity": 0.2
             }
            },
            "type": "histogram"
           }
          ],
          "scattergl": [
           {
            "marker": {
             "line": {
              "color": "#283442"
             }
            },
            "type": "scattergl"
           }
          ],
          "scatter3d": [
           {
            "type": "scatter3d",
            "line": {
             "colorbar": {
              "outlinewidth": 0,
              "ticks": ""
             }
            },
            "marker": {
             "colorbar": {
              "outlinewidth": 0,
              "ticks": ""
             }
            }
           }
          ],
          "scattermap": [
           {
            "type": "scattermap",
            "marker": {
             "colorbar": {
              "outlinewidth": 0,
              "ticks": ""
             }
            }
           }
          ],
          "scattermapbox": [
           {
            "type": "scattermapbox",
            "marker": {
             "colorbar": {
              "outlinewidth": 0,
              "ticks": ""
             }
            }
           }
          ],
          "scatterternary": [
           {
            "type": "scatterternary",
            "marker": {
             "colorbar": {
              "outlinewidth": 0,
              "ticks": ""
             }
            }
           }
          ],
          "scattercarpet": [
           {
            "type": "scattercarpet",
            "marker": {
             "colorbar": {
              "outlinewidth": 0,
              "ticks": ""
             }
            }
           }
          ],
          "carpet": [
           {
            "aaxis": {
             "endlinecolor": "#A2B1C6",
             "gridcolor": "#506784",
             "linecolor": "#506784",
             "minorgridcolor": "#506784",
             "startlinecolor": "#A2B1C6"
            },
            "baxis": {
             "endlinecolor": "#A2B1C6",
             "gridcolor": "#506784",
             "linecolor": "#506784",
             "minorgridcolor": "#506784",
             "startlinecolor": "#A2B1C6"
            },
            "type": "carpet"
           }
          ],
          "table": [
           {
            "cells": {
             "fill": {
              "color": "#506784"
             },
             "line": {
              "color": "rgb(17,17,17)"
             }
            },
            "header": {
             "fill": {
              "color": "#2a3f5f"
             },
             "line": {
              "color": "rgb(17,17,17)"
             }
            },
            "type": "table"
           }
          ],
          "barpolar": [
           {
            "marker": {
             "line": {
              "color": "rgb(17,17,17)",
              "width": 0.5
             },
             "pattern": {
              "fillmode": "overlay",
              "size": 10,
              "solidity": 0.2
             }
            },
            "type": "barpolar"
           }
          ],
          "pie": [
           {
            "automargin": true,
            "type": "pie"
           }
          ]
         },
         "layout": {
          "autotypenumbers": "strict",
          "colorway": [
           "#636efa",
           "#EF553B",
           "#00cc96",
           "#ab63fa",
           "#FFA15A",
           "#19d3f3",
           "#FF6692",
           "#B6E880",
           "#FF97FF",
           "#FECB52"
          ],
          "font": {
           "color": "#f2f5fa"
          },
          "hovermode": "closest",
          "hoverlabel": {
           "align": "left"
          },
          "paper_bgcolor": "rgb(17,17,17)",
          "plot_bgcolor": "rgb(17,17,17)",
          "polar": {
           "bgcolor": "rgb(17,17,17)",
           "angularaxis": {
            "gridcolor": "#506784",
            "linecolor": "#506784",
            "ticks": ""
           },
           "radialaxis": {
            "gridcolor": "#506784",
            "linecolor": "#506784",
            "ticks": ""
           }
          },
          "ternary": {
           "bgcolor": "rgb(17,17,17)",
           "aaxis": {
            "gridcolor": "#506784",
            "linecolor": "#506784",
            "ticks": ""
           },
           "baxis": {
            "gridcolor": "#506784",
            "linecolor": "#506784",
            "ticks": ""
           },
           "caxis": {
            "gridcolor": "#506784",
            "linecolor": "#506784",
            "ticks": ""
           }
          },
          "coloraxis": {
           "colorbar": {
            "outlinewidth": 0,
            "ticks": ""
           }
          },
          "colorscale": {
           "sequential": [
            [
             0.0,
             "#0d0887"
            ],
            [
             0.1111111111111111,
             "#46039f"
            ],
            [
             0.2222222222222222,
             "#7201a8"
            ],
            [
             0.3333333333333333,
             "#9c179e"
            ],
            [
             0.4444444444444444,
             "#bd3786"
            ],
            [
             0.5555555555555556,
             "#d8576b"
            ],
            [
             0.6666666666666666,
             "#ed7953"
            ],
            [
             0.7777777777777778,
             "#fb9f3a"
            ],
            [
             0.8888888888888888,
             "#fdca26"
            ],
            [
             1.0,
             "#f0f921"
            ]
           ],
           "sequentialminus": [
            [
             0.0,
             "#0d0887"
            ],
            [
             0.1111111111111111,
             "#46039f"
            ],
            [
             0.2222222222222222,
             "#7201a8"
            ],
            [
             0.3333333333333333,
             "#9c179e"
            ],
            [
             0.4444444444444444,
             "#bd3786"
            ],
            [
             0.5555555555555556,
             "#d8576b"
            ],
            [
             0.6666666666666666,
             "#ed7953"
            ],
            [
             0.7777777777777778,
             "#fb9f3a"
            ],
            [
             0.8888888888888888,
             "#fdca26"
            ],
            [
             1.0,
             "#f0f921"
            ]
           ],
           "diverging": [
            [
             0,
             "#8e0152"
            ],
            [
             0.1,
             "#c51b7d"
            ],
            [
             0.2,
             "#de77ae"
            ],
            [
             0.3,
             "#f1b6da"
            ],
            [
             0.4,
             "#fde0ef"
            ],
            [
             0.5,
             "#f7f7f7"
            ],
            [
             0.6,
             "#e6f5d0"
            ],
            [
             0.7,
             "#b8e186"
            ],
            [
             0.8,
             "#7fbc41"
            ],
            [
             0.9,
             "#4d9221"
            ],
            [
             1,
             "#276419"
            ]
           ]
          },
          "xaxis": {
           "gridcolor": "#283442",
           "linecolor": "#506784",
           "ticks": "",
           "title": {
            "standoff": 15
           },
           "zerolinecolor": "#283442",
           "automargin": true,
           "zerolinewidth": 2
          },
          "yaxis": {
           "gridcolor": "#283442",
           "linecolor": "#506784",
           "ticks": "",
           "title": {
            "standoff": 15
           },
           "zerolinecolor": "#283442",
           "automargin": true,
           "zerolinewidth": 2
          },
          "scene": {
           "xaxis": {
            "backgroundcolor": "rgb(17,17,17)",
            "gridcolor": "#506784",
            "linecolor": "#506784",
            "showbackground": true,
            "ticks": "",
            "zerolinecolor": "#C8D4E3",
            "gridwidth": 2
           },
           "yaxis": {
            "backgroundcolor": "rgb(17,17,17)",
            "gridcolor": "#506784",
            "linecolor": "#506784",
            "showbackground": true,
            "ticks": "",
            "zerolinecolor": "#C8D4E3",
            "gridwidth": 2
           },
           "zaxis": {
            "backgroundcolor": "rgb(17,17,17)",
            "gridcolor": "#506784",
            "linecolor": "#506784",
            "showbackground": true,
            "ticks": "",
            "zerolinecolor": "#C8D4E3",
            "gridwidth": 2
           }
          },
          "shapedefaults": {
           "line": {
            "color": "#f2f5fa"
           }
          },
          "annotationdefaults": {
           "arrowcolor": "#f2f5fa",
           "arrowhead": 0,
           "arrowwidth": 1
          },
          "geo": {
           "bgcolor": "rgb(17,17,17)",
           "landcolor": "rgb(17,17,17)",
           "subunitcolor": "#506784",
           "showland": true,
           "showlakes": true,
           "lakecolor": "rgb(17,17,17)"
          },
          "title": {
           "x": 0.05
          },
          "updatemenudefaults": {
           "bgcolor": "#506784",
           "borderwidth": 0
          },
          "sliderdefaults": {
           "bgcolor": "#C8D4E3",
           "borderwidth": 1,
           "bordercolor": "rgb(17,17,17)",
           "tickwidth": 0
          },
          "mapbox": {
           "style": "dark"
          }
         }
        },
        "xaxis": {
         "anchor": "y",
         "domain": [
          0.0,
          1.0
         ],
         "title": {
          "text": "student name"
         },
         "categoryorder": "total descending",
         "categoryarray": [
          "ARADHANA DILIP CUNCOLCAR",
          "ARIN RATHORE",
          "ASHISH SINGH CHAUHAN",
          "ATUL",
          "BOGGARAPU VENKATA VAMSI KRISHNA",
          "DAKSHAL VINAYAK SHETYE",
          "DEEKSHA YADAV",
          "DIYA JOSHI",
          "JOYAL JOSEPH",
          "KARTHIK A",
          "KETAN PURUSHOTTAM KUNKALIKAR",
          "M KAVYA",
          "MALLELA GANESH KUMAR REDDY",
          "N YUVRAJ",
          "NISCHAL GAJANAN PARULEKAR",
          "PERLI ARYAN NAGESWARARAO",
          "POOJA RAMDAS SONAWANE",
          "PRATIK PRAVIN NAIK",
          "RAJ GUPTA",
          "RAJENDRA KUMAR",
          "SANKET SURAJ USGAONKAR",
          "SHRAVANI BIPIN PAWAR",
          "SHRUTI BALASAHEB PATIL",
          "TUSHAR PAL",
          "VAIBHAV YADAV",
          "VISHAL PRATAP",
          "ARUN UPADHYAY",
          "MORUSU GUNASEKHAR REDDY",
          "AKASH ABHILASH",
          "ABHISHEK CHOUKUSE"
         ]
        },
        "yaxis": {
         "anchor": "x",
         "domain": [
          0.0,
          1.0
         ],
         "title": {
          "text": "sgpa_8"
         }
        },
        "legend": {
         "title": {
          "text": "student name"
         },
         "tracegroupgap": 0
        },
        "title": {
         "text": "SGPA Chart"
        },
        "barmode": "relative"
       },
       "config": {
        "plotlyServerURL": "https://plot.ly"
       }
      }
     },
     "metadata": {},
     "output_type": "display_data"
    }
   ],
   "execution_count": 30
  },
  {
   "metadata": {
    "ExecuteTime": {
     "end_time": "2025-06-21T13:07:08.061801Z",
     "start_time": "2025-06-21T13:07:07.969736Z"
    }
   },
   "cell_type": "code",
   "source": [
    "import plotly.express as px\n",
    "df = px.data.tips()\n",
    "fig = px.box(sgpa, y=\"sgpa_4\")\n",
    "fig.show()"
   ],
   "id": "573cbd6871fe193b",
   "outputs": [
    {
     "data": {
      "application/vnd.plotly.v1+json": {
       "data": [
        {
         "alignmentgroup": "True",
         "hovertemplate": "sgpa_4=%{y}<extra></extra>",
         "legendgroup": "",
         "marker": {
          "color": "#636efa"
         },
         "name": "",
         "notched": false,
         "offsetgroup": "",
         "orientation": "v",
         "showlegend": false,
         "x0": " ",
         "xaxis": "x",
         "y": {
          "dtype": "f8",
          "bdata": "zczMzMzMGkAAAAAAAAAkQDMzMzMzMyJAMzMzMzOzIEAzMzMzM7MjQJqZmZmZGSFAAAAAAAAAIkDNzMzMzMwdQGZmZmZmZiBAzczMzMzMHkCamZmZmZkfQDMzMzMzsyFAMzMzMzMzIEAAAAAAAAAgQGZmZmZmZh5AmpmZmZmZHUDNzMzMzMwVQAAAAAAAgCBAzczMzMzMH0CamZmZmZkeQM3MzMzMzB1AmpmZmZmZIkAzMzMzMzMfQGZmZmZm5iFAAAAAAACAI0BmZmZmZmYaQAAAAAAAACRAMzMzMzMzI0BmZmZmZuYhQGZmZmZm5iJA"
         },
         "y0": " ",
         "yaxis": "y",
         "type": "box"
        }
       ],
       "layout": {
        "template": {
         "data": {
          "histogram2dcontour": [
           {
            "type": "histogram2dcontour",
            "colorbar": {
             "outlinewidth": 0,
             "ticks": ""
            },
            "colorscale": [
             [
              0.0,
              "#0d0887"
             ],
             [
              0.1111111111111111,
              "#46039f"
             ],
             [
              0.2222222222222222,
              "#7201a8"
             ],
             [
              0.3333333333333333,
              "#9c179e"
             ],
             [
              0.4444444444444444,
              "#bd3786"
             ],
             [
              0.5555555555555556,
              "#d8576b"
             ],
             [
              0.6666666666666666,
              "#ed7953"
             ],
             [
              0.7777777777777778,
              "#fb9f3a"
             ],
             [
              0.8888888888888888,
              "#fdca26"
             ],
             [
              1.0,
              "#f0f921"
             ]
            ]
           }
          ],
          "choropleth": [
           {
            "type": "choropleth",
            "colorbar": {
             "outlinewidth": 0,
             "ticks": ""
            }
           }
          ],
          "histogram2d": [
           {
            "type": "histogram2d",
            "colorbar": {
             "outlinewidth": 0,
             "ticks": ""
            },
            "colorscale": [
             [
              0.0,
              "#0d0887"
             ],
             [
              0.1111111111111111,
              "#46039f"
             ],
             [
              0.2222222222222222,
              "#7201a8"
             ],
             [
              0.3333333333333333,
              "#9c179e"
             ],
             [
              0.4444444444444444,
              "#bd3786"
             ],
             [
              0.5555555555555556,
              "#d8576b"
             ],
             [
              0.6666666666666666,
              "#ed7953"
             ],
             [
              0.7777777777777778,
              "#fb9f3a"
             ],
             [
              0.8888888888888888,
              "#fdca26"
             ],
             [
              1.0,
              "#f0f921"
             ]
            ]
           }
          ],
          "heatmap": [
           {
            "type": "heatmap",
            "colorbar": {
             "outlinewidth": 0,
             "ticks": ""
            },
            "colorscale": [
             [
              0.0,
              "#0d0887"
             ],
             [
              0.1111111111111111,
              "#46039f"
             ],
             [
              0.2222222222222222,
              "#7201a8"
             ],
             [
              0.3333333333333333,
              "#9c179e"
             ],
             [
              0.4444444444444444,
              "#bd3786"
             ],
             [
              0.5555555555555556,
              "#d8576b"
             ],
             [
              0.6666666666666666,
              "#ed7953"
             ],
             [
              0.7777777777777778,
              "#fb9f3a"
             ],
             [
              0.8888888888888888,
              "#fdca26"
             ],
             [
              1.0,
              "#f0f921"
             ]
            ]
           }
          ],
          "contourcarpet": [
           {
            "type": "contourcarpet",
            "colorbar": {
             "outlinewidth": 0,
             "ticks": ""
            }
           }
          ],
          "contour": [
           {
            "type": "contour",
            "colorbar": {
             "outlinewidth": 0,
             "ticks": ""
            },
            "colorscale": [
             [
              0.0,
              "#0d0887"
             ],
             [
              0.1111111111111111,
              "#46039f"
             ],
             [
              0.2222222222222222,
              "#7201a8"
             ],
             [
              0.3333333333333333,
              "#9c179e"
             ],
             [
              0.4444444444444444,
              "#bd3786"
             ],
             [
              0.5555555555555556,
              "#d8576b"
             ],
             [
              0.6666666666666666,
              "#ed7953"
             ],
             [
              0.7777777777777778,
              "#fb9f3a"
             ],
             [
              0.8888888888888888,
              "#fdca26"
             ],
             [
              1.0,
              "#f0f921"
             ]
            ]
           }
          ],
          "surface": [
           {
            "type": "surface",
            "colorbar": {
             "outlinewidth": 0,
             "ticks": ""
            },
            "colorscale": [
             [
              0.0,
              "#0d0887"
             ],
             [
              0.1111111111111111,
              "#46039f"
             ],
             [
              0.2222222222222222,
              "#7201a8"
             ],
             [
              0.3333333333333333,
              "#9c179e"
             ],
             [
              0.4444444444444444,
              "#bd3786"
             ],
             [
              0.5555555555555556,
              "#d8576b"
             ],
             [
              0.6666666666666666,
              "#ed7953"
             ],
             [
              0.7777777777777778,
              "#fb9f3a"
             ],
             [
              0.8888888888888888,
              "#fdca26"
             ],
             [
              1.0,
              "#f0f921"
             ]
            ]
           }
          ],
          "mesh3d": [
           {
            "type": "mesh3d",
            "colorbar": {
             "outlinewidth": 0,
             "ticks": ""
            }
           }
          ],
          "scatter": [
           {
            "marker": {
             "line": {
              "color": "#283442"
             }
            },
            "type": "scatter"
           }
          ],
          "parcoords": [
           {
            "type": "parcoords",
            "line": {
             "colorbar": {
              "outlinewidth": 0,
              "ticks": ""
             }
            }
           }
          ],
          "scatterpolargl": [
           {
            "type": "scatterpolargl",
            "marker": {
             "colorbar": {
              "outlinewidth": 0,
              "ticks": ""
             }
            }
           }
          ],
          "bar": [
           {
            "error_x": {
             "color": "#f2f5fa"
            },
            "error_y": {
             "color": "#f2f5fa"
            },
            "marker": {
             "line": {
              "color": "rgb(17,17,17)",
              "width": 0.5
             },
             "pattern": {
              "fillmode": "overlay",
              "size": 10,
              "solidity": 0.2
             }
            },
            "type": "bar"
           }
          ],
          "scattergeo": [
           {
            "type": "scattergeo",
            "marker": {
             "colorbar": {
              "outlinewidth": 0,
              "ticks": ""
             }
            }
           }
          ],
          "scatterpolar": [
           {
            "type": "scatterpolar",
            "marker": {
             "colorbar": {
              "outlinewidth": 0,
              "ticks": ""
             }
            }
           }
          ],
          "histogram": [
           {
            "marker": {
             "pattern": {
              "fillmode": "overlay",
              "size": 10,
              "solidity": 0.2
             }
            },
            "type": "histogram"
           }
          ],
          "scattergl": [
           {
            "marker": {
             "line": {
              "color": "#283442"
             }
            },
            "type": "scattergl"
           }
          ],
          "scatter3d": [
           {
            "type": "scatter3d",
            "line": {
             "colorbar": {
              "outlinewidth": 0,
              "ticks": ""
             }
            },
            "marker": {
             "colorbar": {
              "outlinewidth": 0,
              "ticks": ""
             }
            }
           }
          ],
          "scattermap": [
           {
            "type": "scattermap",
            "marker": {
             "colorbar": {
              "outlinewidth": 0,
              "ticks": ""
             }
            }
           }
          ],
          "scattermapbox": [
           {
            "type": "scattermapbox",
            "marker": {
             "colorbar": {
              "outlinewidth": 0,
              "ticks": ""
             }
            }
           }
          ],
          "scatterternary": [
           {
            "type": "scatterternary",
            "marker": {
             "colorbar": {
              "outlinewidth": 0,
              "ticks": ""
             }
            }
           }
          ],
          "scattercarpet": [
           {
            "type": "scattercarpet",
            "marker": {
             "colorbar": {
              "outlinewidth": 0,
              "ticks": ""
             }
            }
           }
          ],
          "carpet": [
           {
            "aaxis": {
             "endlinecolor": "#A2B1C6",
             "gridcolor": "#506784",
             "linecolor": "#506784",
             "minorgridcolor": "#506784",
             "startlinecolor": "#A2B1C6"
            },
            "baxis": {
             "endlinecolor": "#A2B1C6",
             "gridcolor": "#506784",
             "linecolor": "#506784",
             "minorgridcolor": "#506784",
             "startlinecolor": "#A2B1C6"
            },
            "type": "carpet"
           }
          ],
          "table": [
           {
            "cells": {
             "fill": {
              "color": "#506784"
             },
             "line": {
              "color": "rgb(17,17,17)"
             }
            },
            "header": {
             "fill": {
              "color": "#2a3f5f"
             },
             "line": {
              "color": "rgb(17,17,17)"
             }
            },
            "type": "table"
           }
          ],
          "barpolar": [
           {
            "marker": {
             "line": {
              "color": "rgb(17,17,17)",
              "width": 0.5
             },
             "pattern": {
              "fillmode": "overlay",
              "size": 10,
              "solidity": 0.2
             }
            },
            "type": "barpolar"
           }
          ],
          "pie": [
           {
            "automargin": true,
            "type": "pie"
           }
          ]
         },
         "layout": {
          "autotypenumbers": "strict",
          "colorway": [
           "#636efa",
           "#EF553B",
           "#00cc96",
           "#ab63fa",
           "#FFA15A",
           "#19d3f3",
           "#FF6692",
           "#B6E880",
           "#FF97FF",
           "#FECB52"
          ],
          "font": {
           "color": "#f2f5fa"
          },
          "hovermode": "closest",
          "hoverlabel": {
           "align": "left"
          },
          "paper_bgcolor": "rgb(17,17,17)",
          "plot_bgcolor": "rgb(17,17,17)",
          "polar": {
           "bgcolor": "rgb(17,17,17)",
           "angularaxis": {
            "gridcolor": "#506784",
            "linecolor": "#506784",
            "ticks": ""
           },
           "radialaxis": {
            "gridcolor": "#506784",
            "linecolor": "#506784",
            "ticks": ""
           }
          },
          "ternary": {
           "bgcolor": "rgb(17,17,17)",
           "aaxis": {
            "gridcolor": "#506784",
            "linecolor": "#506784",
            "ticks": ""
           },
           "baxis": {
            "gridcolor": "#506784",
            "linecolor": "#506784",
            "ticks": ""
           },
           "caxis": {
            "gridcolor": "#506784",
            "linecolor": "#506784",
            "ticks": ""
           }
          },
          "coloraxis": {
           "colorbar": {
            "outlinewidth": 0,
            "ticks": ""
           }
          },
          "colorscale": {
           "sequential": [
            [
             0.0,
             "#0d0887"
            ],
            [
             0.1111111111111111,
             "#46039f"
            ],
            [
             0.2222222222222222,
             "#7201a8"
            ],
            [
             0.3333333333333333,
             "#9c179e"
            ],
            [
             0.4444444444444444,
             "#bd3786"
            ],
            [
             0.5555555555555556,
             "#d8576b"
            ],
            [
             0.6666666666666666,
             "#ed7953"
            ],
            [
             0.7777777777777778,
             "#fb9f3a"
            ],
            [
             0.8888888888888888,
             "#fdca26"
            ],
            [
             1.0,
             "#f0f921"
            ]
           ],
           "sequentialminus": [
            [
             0.0,
             "#0d0887"
            ],
            [
             0.1111111111111111,
             "#46039f"
            ],
            [
             0.2222222222222222,
             "#7201a8"
            ],
            [
             0.3333333333333333,
             "#9c179e"
            ],
            [
             0.4444444444444444,
             "#bd3786"
            ],
            [
             0.5555555555555556,
             "#d8576b"
            ],
            [
             0.6666666666666666,
             "#ed7953"
            ],
            [
             0.7777777777777778,
             "#fb9f3a"
            ],
            [
             0.8888888888888888,
             "#fdca26"
            ],
            [
             1.0,
             "#f0f921"
            ]
           ],
           "diverging": [
            [
             0,
             "#8e0152"
            ],
            [
             0.1,
             "#c51b7d"
            ],
            [
             0.2,
             "#de77ae"
            ],
            [
             0.3,
             "#f1b6da"
            ],
            [
             0.4,
             "#fde0ef"
            ],
            [
             0.5,
             "#f7f7f7"
            ],
            [
             0.6,
             "#e6f5d0"
            ],
            [
             0.7,
             "#b8e186"
            ],
            [
             0.8,
             "#7fbc41"
            ],
            [
             0.9,
             "#4d9221"
            ],
            [
             1,
             "#276419"
            ]
           ]
          },
          "xaxis": {
           "gridcolor": "#283442",
           "linecolor": "#506784",
           "ticks": "",
           "title": {
            "standoff": 15
           },
           "zerolinecolor": "#283442",
           "automargin": true,
           "zerolinewidth": 2
          },
          "yaxis": {
           "gridcolor": "#283442",
           "linecolor": "#506784",
           "ticks": "",
           "title": {
            "standoff": 15
           },
           "zerolinecolor": "#283442",
           "automargin": true,
           "zerolinewidth": 2
          },
          "scene": {
           "xaxis": {
            "backgroundcolor": "rgb(17,17,17)",
            "gridcolor": "#506784",
            "linecolor": "#506784",
            "showbackground": true,
            "ticks": "",
            "zerolinecolor": "#C8D4E3",
            "gridwidth": 2
           },
           "yaxis": {
            "backgroundcolor": "rgb(17,17,17)",
            "gridcolor": "#506784",
            "linecolor": "#506784",
            "showbackground": true,
            "ticks": "",
            "zerolinecolor": "#C8D4E3",
            "gridwidth": 2
           },
           "zaxis": {
            "backgroundcolor": "rgb(17,17,17)",
            "gridcolor": "#506784",
            "linecolor": "#506784",
            "showbackground": true,
            "ticks": "",
            "zerolinecolor": "#C8D4E3",
            "gridwidth": 2
           }
          },
          "shapedefaults": {
           "line": {
            "color": "#f2f5fa"
           }
          },
          "annotationdefaults": {
           "arrowcolor": "#f2f5fa",
           "arrowhead": 0,
           "arrowwidth": 1
          },
          "geo": {
           "bgcolor": "rgb(17,17,17)",
           "landcolor": "rgb(17,17,17)",
           "subunitcolor": "#506784",
           "showland": true,
           "showlakes": true,
           "lakecolor": "rgb(17,17,17)"
          },
          "title": {
           "x": 0.05
          },
          "updatemenudefaults": {
           "bgcolor": "#506784",
           "borderwidth": 0
          },
          "sliderdefaults": {
           "bgcolor": "#C8D4E3",
           "borderwidth": 1,
           "bordercolor": "rgb(17,17,17)",
           "tickwidth": 0
          },
          "mapbox": {
           "style": "dark"
          }
         }
        },
        "xaxis": {
         "anchor": "y",
         "domain": [
          0.0,
          1.0
         ]
        },
        "yaxis": {
         "anchor": "x",
         "domain": [
          0.0,
          1.0
         ],
         "title": {
          "text": "sgpa_4"
         }
        },
        "legend": {
         "tracegroupgap": 0
        },
        "margin": {
         "t": 60
        },
        "boxmode": "group"
       },
       "config": {
        "plotlyServerURL": "https://plot.ly"
       }
      }
     },
     "metadata": {},
     "output_type": "display_data"
    }
   ],
   "execution_count": 32
  },
  {
   "metadata": {
    "ExecuteTime": {
     "end_time": "2025-06-21T13:17:27.273277Z",
     "start_time": "2025-06-21T13:17:27.168579Z"
    }
   },
   "cell_type": "code",
   "source": [
    "# Calculate average SGPA for each semester\n",
    "sgpa_columns = [col for col in sgpa.columns if col.startswith('sgpa_')]\n",
    "avg_sgpa = {}\n",
    "\n",
    "for col in sgpa_columns:\n",
    "    # Extract semester number from column name (e.g., 'sgpa_1' -> '1')\n",
    "    semester = col.split('_')[1]\n",
    "    # Calculate average SGPA for this semester\n",
    "    avg_sgpa[semester] = sgpa[col].mean()\n",
    "\n",
    "# Convert to DataFrame for plotting\n",
    "avg_sgpa_df = pd.DataFrame({\n",
    "    'semester': list(avg_sgpa.keys()),\n",
    "    'average_sgpa': list(avg_sgpa.values())\n",
    "})\n",
    "\n",
    "# Sort by semester number\n",
    "avg_sgpa_df['semester'] = avg_sgpa_df['semester'].astype(int)\n",
    "avg_sgpa_df = avg_sgpa_df.sort_values('semester')\n",
    "\n",
    "# Plot average SGPA across semesters\n",
    "import plotly.express as px\n",
    "\n",
    "fig = px.line(avg_sgpa_df, x='semester', y='average_sgpa',\n",
    "              title='Average SGPA Across Semesters',\n",
    "              markers=True,\n",
    "              labels={\n",
    "                  'semester': 'Semester',\n",
    "                  'average_sgpa': 'Average SGPA'\n",
    "              })\n",
    "\n",
    "fig.update_yaxes(range=[0, 10])\n",
    "fig.update_xaxes(tickmode='linear')\n",
    "fig.show()"
   ],
   "id": "c1ac75644d5c4a10",
   "outputs": [
    {
     "data": {
      "application/vnd.plotly.v1+json": {
       "data": [
        {
         "hovertemplate": "Semester=%{x}<br>Average SGPA=%{y}<extra></extra>",
         "legendgroup": "",
         "line": {
          "color": "#636efa",
          "dash": "solid"
         },
         "marker": {
          "symbol": "circle"
         },
         "mode": "lines+markers",
         "name": "",
         "orientation": "v",
         "showlegend": false,
         "x": {
          "dtype": "i1",
          "bdata": "AQIDBAUGBwg="
         },
         "xaxis": "x",
         "y": {
          "dtype": "f8",
          "bdata": "i7MPn2EXIUA+fIZdAfIfQJOmVJx9+B9AKVyPwvWoIEC511xImhIgQNMGOm2g0x9Ayb3mQtIUIUCRxj7NDV8hQA=="
         },
         "yaxis": "y",
         "type": "scatter"
        }
       ],
       "layout": {
        "template": {
         "data": {
          "histogram2dcontour": [
           {
            "type": "histogram2dcontour",
            "colorbar": {
             "outlinewidth": 0,
             "ticks": ""
            },
            "colorscale": [
             [
              0.0,
              "#0d0887"
             ],
             [
              0.1111111111111111,
              "#46039f"
             ],
             [
              0.2222222222222222,
              "#7201a8"
             ],
             [
              0.3333333333333333,
              "#9c179e"
             ],
             [
              0.4444444444444444,
              "#bd3786"
             ],
             [
              0.5555555555555556,
              "#d8576b"
             ],
             [
              0.6666666666666666,
              "#ed7953"
             ],
             [
              0.7777777777777778,
              "#fb9f3a"
             ],
             [
              0.8888888888888888,
              "#fdca26"
             ],
             [
              1.0,
              "#f0f921"
             ]
            ]
           }
          ],
          "choropleth": [
           {
            "type": "choropleth",
            "colorbar": {
             "outlinewidth": 0,
             "ticks": ""
            }
           }
          ],
          "histogram2d": [
           {
            "type": "histogram2d",
            "colorbar": {
             "outlinewidth": 0,
             "ticks": ""
            },
            "colorscale": [
             [
              0.0,
              "#0d0887"
             ],
             [
              0.1111111111111111,
              "#46039f"
             ],
             [
              0.2222222222222222,
              "#7201a8"
             ],
             [
              0.3333333333333333,
              "#9c179e"
             ],
             [
              0.4444444444444444,
              "#bd3786"
             ],
             [
              0.5555555555555556,
              "#d8576b"
             ],
             [
              0.6666666666666666,
              "#ed7953"
             ],
             [
              0.7777777777777778,
              "#fb9f3a"
             ],
             [
              0.8888888888888888,
              "#fdca26"
             ],
             [
              1.0,
              "#f0f921"
             ]
            ]
           }
          ],
          "heatmap": [
           {
            "type": "heatmap",
            "colorbar": {
             "outlinewidth": 0,
             "ticks": ""
            },
            "colorscale": [
             [
              0.0,
              "#0d0887"
             ],
             [
              0.1111111111111111,
              "#46039f"
             ],
             [
              0.2222222222222222,
              "#7201a8"
             ],
             [
              0.3333333333333333,
              "#9c179e"
             ],
             [
              0.4444444444444444,
              "#bd3786"
             ],
             [
              0.5555555555555556,
              "#d8576b"
             ],
             [
              0.6666666666666666,
              "#ed7953"
             ],
             [
              0.7777777777777778,
              "#fb9f3a"
             ],
             [
              0.8888888888888888,
              "#fdca26"
             ],
             [
              1.0,
              "#f0f921"
             ]
            ]
           }
          ],
          "contourcarpet": [
           {
            "type": "contourcarpet",
            "colorbar": {
             "outlinewidth": 0,
             "ticks": ""
            }
           }
          ],
          "contour": [
           {
            "type": "contour",
            "colorbar": {
             "outlinewidth": 0,
             "ticks": ""
            },
            "colorscale": [
             [
              0.0,
              "#0d0887"
             ],
             [
              0.1111111111111111,
              "#46039f"
             ],
             [
              0.2222222222222222,
              "#7201a8"
             ],
             [
              0.3333333333333333,
              "#9c179e"
             ],
             [
              0.4444444444444444,
              "#bd3786"
             ],
             [
              0.5555555555555556,
              "#d8576b"
             ],
             [
              0.6666666666666666,
              "#ed7953"
             ],
             [
              0.7777777777777778,
              "#fb9f3a"
             ],
             [
              0.8888888888888888,
              "#fdca26"
             ],
             [
              1.0,
              "#f0f921"
             ]
            ]
           }
          ],
          "surface": [
           {
            "type": "surface",
            "colorbar": {
             "outlinewidth": 0,
             "ticks": ""
            },
            "colorscale": [
             [
              0.0,
              "#0d0887"
             ],
             [
              0.1111111111111111,
              "#46039f"
             ],
             [
              0.2222222222222222,
              "#7201a8"
             ],
             [
              0.3333333333333333,
              "#9c179e"
             ],
             [
              0.4444444444444444,
              "#bd3786"
             ],
             [
              0.5555555555555556,
              "#d8576b"
             ],
             [
              0.6666666666666666,
              "#ed7953"
             ],
             [
              0.7777777777777778,
              "#fb9f3a"
             ],
             [
              0.8888888888888888,
              "#fdca26"
             ],
             [
              1.0,
              "#f0f921"
             ]
            ]
           }
          ],
          "mesh3d": [
           {
            "type": "mesh3d",
            "colorbar": {
             "outlinewidth": 0,
             "ticks": ""
            }
           }
          ],
          "scatter": [
           {
            "marker": {
             "line": {
              "color": "#283442"
             }
            },
            "type": "scatter"
           }
          ],
          "parcoords": [
           {
            "type": "parcoords",
            "line": {
             "colorbar": {
              "outlinewidth": 0,
              "ticks": ""
             }
            }
           }
          ],
          "scatterpolargl": [
           {
            "type": "scatterpolargl",
            "marker": {
             "colorbar": {
              "outlinewidth": 0,
              "ticks": ""
             }
            }
           }
          ],
          "bar": [
           {
            "error_x": {
             "color": "#f2f5fa"
            },
            "error_y": {
             "color": "#f2f5fa"
            },
            "marker": {
             "line": {
              "color": "rgb(17,17,17)",
              "width": 0.5
             },
             "pattern": {
              "fillmode": "overlay",
              "size": 10,
              "solidity": 0.2
             }
            },
            "type": "bar"
           }
          ],
          "scattergeo": [
           {
            "type": "scattergeo",
            "marker": {
             "colorbar": {
              "outlinewidth": 0,
              "ticks": ""
             }
            }
           }
          ],
          "scatterpolar": [
           {
            "type": "scatterpolar",
            "marker": {
             "colorbar": {
              "outlinewidth": 0,
              "ticks": ""
             }
            }
           }
          ],
          "histogram": [
           {
            "marker": {
             "pattern": {
              "fillmode": "overlay",
              "size": 10,
              "solidity": 0.2
             }
            },
            "type": "histogram"
           }
          ],
          "scattergl": [
           {
            "marker": {
             "line": {
              "color": "#283442"
             }
            },
            "type": "scattergl"
           }
          ],
          "scatter3d": [
           {
            "type": "scatter3d",
            "line": {
             "colorbar": {
              "outlinewidth": 0,
              "ticks": ""
             }
            },
            "marker": {
             "colorbar": {
              "outlinewidth": 0,
              "ticks": ""
             }
            }
           }
          ],
          "scattermap": [
           {
            "type": "scattermap",
            "marker": {
             "colorbar": {
              "outlinewidth": 0,
              "ticks": ""
             }
            }
           }
          ],
          "scattermapbox": [
           {
            "type": "scattermapbox",
            "marker": {
             "colorbar": {
              "outlinewidth": 0,
              "ticks": ""
             }
            }
           }
          ],
          "scatterternary": [
           {
            "type": "scatterternary",
            "marker": {
             "colorbar": {
              "outlinewidth": 0,
              "ticks": ""
             }
            }
           }
          ],
          "scattercarpet": [
           {
            "type": "scattercarpet",
            "marker": {
             "colorbar": {
              "outlinewidth": 0,
              "ticks": ""
             }
            }
           }
          ],
          "carpet": [
           {
            "aaxis": {
             "endlinecolor": "#A2B1C6",
             "gridcolor": "#506784",
             "linecolor": "#506784",
             "minorgridcolor": "#506784",
             "startlinecolor": "#A2B1C6"
            },
            "baxis": {
             "endlinecolor": "#A2B1C6",
             "gridcolor": "#506784",
             "linecolor": "#506784",
             "minorgridcolor": "#506784",
             "startlinecolor": "#A2B1C6"
            },
            "type": "carpet"
           }
          ],
          "table": [
           {
            "cells": {
             "fill": {
              "color": "#506784"
             },
             "line": {
              "color": "rgb(17,17,17)"
             }
            },
            "header": {
             "fill": {
              "color": "#2a3f5f"
             },
             "line": {
              "color": "rgb(17,17,17)"
             }
            },
            "type": "table"
           }
          ],
          "barpolar": [
           {
            "marker": {
             "line": {
              "color": "rgb(17,17,17)",
              "width": 0.5
             },
             "pattern": {
              "fillmode": "overlay",
              "size": 10,
              "solidity": 0.2
             }
            },
            "type": "barpolar"
           }
          ],
          "pie": [
           {
            "automargin": true,
            "type": "pie"
           }
          ]
         },
         "layout": {
          "autotypenumbers": "strict",
          "colorway": [
           "#636efa",
           "#EF553B",
           "#00cc96",
           "#ab63fa",
           "#FFA15A",
           "#19d3f3",
           "#FF6692",
           "#B6E880",
           "#FF97FF",
           "#FECB52"
          ],
          "font": {
           "color": "#f2f5fa"
          },
          "hovermode": "closest",
          "hoverlabel": {
           "align": "left"
          },
          "paper_bgcolor": "rgb(17,17,17)",
          "plot_bgcolor": "rgb(17,17,17)",
          "polar": {
           "bgcolor": "rgb(17,17,17)",
           "angularaxis": {
            "gridcolor": "#506784",
            "linecolor": "#506784",
            "ticks": ""
           },
           "radialaxis": {
            "gridcolor": "#506784",
            "linecolor": "#506784",
            "ticks": ""
           }
          },
          "ternary": {
           "bgcolor": "rgb(17,17,17)",
           "aaxis": {
            "gridcolor": "#506784",
            "linecolor": "#506784",
            "ticks": ""
           },
           "baxis": {
            "gridcolor": "#506784",
            "linecolor": "#506784",
            "ticks": ""
           },
           "caxis": {
            "gridcolor": "#506784",
            "linecolor": "#506784",
            "ticks": ""
           }
          },
          "coloraxis": {
           "colorbar": {
            "outlinewidth": 0,
            "ticks": ""
           }
          },
          "colorscale": {
           "sequential": [
            [
             0.0,
             "#0d0887"
            ],
            [
             0.1111111111111111,
             "#46039f"
            ],
            [
             0.2222222222222222,
             "#7201a8"
            ],
            [
             0.3333333333333333,
             "#9c179e"
            ],
            [
             0.4444444444444444,
             "#bd3786"
            ],
            [
             0.5555555555555556,
             "#d8576b"
            ],
            [
             0.6666666666666666,
             "#ed7953"
            ],
            [
             0.7777777777777778,
             "#fb9f3a"
            ],
            [
             0.8888888888888888,
             "#fdca26"
            ],
            [
             1.0,
             "#f0f921"
            ]
           ],
           "sequentialminus": [
            [
             0.0,
             "#0d0887"
            ],
            [
             0.1111111111111111,
             "#46039f"
            ],
            [
             0.2222222222222222,
             "#7201a8"
            ],
            [
             0.3333333333333333,
             "#9c179e"
            ],
            [
             0.4444444444444444,
             "#bd3786"
            ],
            [
             0.5555555555555556,
             "#d8576b"
            ],
            [
             0.6666666666666666,
             "#ed7953"
            ],
            [
             0.7777777777777778,
             "#fb9f3a"
            ],
            [
             0.8888888888888888,
             "#fdca26"
            ],
            [
             1.0,
             "#f0f921"
            ]
           ],
           "diverging": [
            [
             0,
             "#8e0152"
            ],
            [
             0.1,
             "#c51b7d"
            ],
            [
             0.2,
             "#de77ae"
            ],
            [
             0.3,
             "#f1b6da"
            ],
            [
             0.4,
             "#fde0ef"
            ],
            [
             0.5,
             "#f7f7f7"
            ],
            [
             0.6,
             "#e6f5d0"
            ],
            [
             0.7,
             "#b8e186"
            ],
            [
             0.8,
             "#7fbc41"
            ],
            [
             0.9,
             "#4d9221"
            ],
            [
             1,
             "#276419"
            ]
           ]
          },
          "xaxis": {
           "gridcolor": "#283442",
           "linecolor": "#506784",
           "ticks": "",
           "title": {
            "standoff": 15
           },
           "zerolinecolor": "#283442",
           "automargin": true,
           "zerolinewidth": 2
          },
          "yaxis": {
           "gridcolor": "#283442",
           "linecolor": "#506784",
           "ticks": "",
           "title": {
            "standoff": 15
           },
           "zerolinecolor": "#283442",
           "automargin": true,
           "zerolinewidth": 2
          },
          "scene": {
           "xaxis": {
            "backgroundcolor": "rgb(17,17,17)",
            "gridcolor": "#506784",
            "linecolor": "#506784",
            "showbackground": true,
            "ticks": "",
            "zerolinecolor": "#C8D4E3",
            "gridwidth": 2
           },
           "yaxis": {
            "backgroundcolor": "rgb(17,17,17)",
            "gridcolor": "#506784",
            "linecolor": "#506784",
            "showbackground": true,
            "ticks": "",
            "zerolinecolor": "#C8D4E3",
            "gridwidth": 2
           },
           "zaxis": {
            "backgroundcolor": "rgb(17,17,17)",
            "gridcolor": "#506784",
            "linecolor": "#506784",
            "showbackground": true,
            "ticks": "",
            "zerolinecolor": "#C8D4E3",
            "gridwidth": 2
           }
          },
          "shapedefaults": {
           "line": {
            "color": "#f2f5fa"
           }
          },
          "annotationdefaults": {
           "arrowcolor": "#f2f5fa",
           "arrowhead": 0,
           "arrowwidth": 1
          },
          "geo": {
           "bgcolor": "rgb(17,17,17)",
           "landcolor": "rgb(17,17,17)",
           "subunitcolor": "#506784",
           "showland": true,
           "showlakes": true,
           "lakecolor": "rgb(17,17,17)"
          },
          "title": {
           "x": 0.05
          },
          "updatemenudefaults": {
           "bgcolor": "#506784",
           "borderwidth": 0
          },
          "sliderdefaults": {
           "bgcolor": "#C8D4E3",
           "borderwidth": 1,
           "bordercolor": "rgb(17,17,17)",
           "tickwidth": 0
          },
          "mapbox": {
           "style": "dark"
          }
         }
        },
        "xaxis": {
         "anchor": "y",
         "domain": [
          0.0,
          1.0
         ],
         "title": {
          "text": "Semester"
         },
         "tickmode": "linear"
        },
        "yaxis": {
         "anchor": "x",
         "domain": [
          0.0,
          1.0
         ],
         "title": {
          "text": "Average SGPA"
         },
         "range": [
          0,
          10
         ]
        },
        "legend": {
         "tracegroupgap": 0
        },
        "title": {
         "text": "Average SGPA Across Semesters"
        }
       },
       "config": {
        "plotlyServerURL": "https://plot.ly"
       }
      }
     },
     "metadata": {},
     "output_type": "display_data"
    }
   ],
   "execution_count": 33
  },
  {
   "metadata": {
    "ExecuteTime": {
     "end_time": "2025-06-21T13:41:33.394017Z",
     "start_time": "2025-06-21T13:41:33.240525Z"
    }
   },
   "cell_type": "code",
   "source": [
    "# Create a pie chart showing distribution of students by SGPA ranges in semester 8\n",
    "import plotly.express as px\n",
    "import numpy as np\n",
    "\n",
    "# Define SGPA ranges\n",
    "sgpa_ranges = [\n",
    "    (0, 5, 'Below 5'),\n",
    "    (5, 6, '5-6'),\n",
    "    (6, 7, '6-7'),\n",
    "    (7, 8, '7-8'),\n",
    "    (8, 9, '8-9'),\n",
    "    (9, 10, '9-10')\n",
    "]\n",
    "\n",
    "# Create a new column with the SGPA range category\n",
    "sgpa_copy = sgpa.copy()\n",
    "sgpa_copy['sgpa_range'] = pd.cut(\n",
    "    sgpa_copy['sgpa_8'], \n",
    "    bins=[0, 5, 6, 7, 8, 9, 10], \n",
    "    labels=['Below 5', '5-6', '6-7', '7-8', '8-9', '9-10'],\n",
    "    include_lowest=True\n",
    ")\n",
    "\n",
    "# Count students in each SGPA range\n",
    "sgpa_distribution = sgpa_copy['sgpa_range'].value_counts().reset_index()\n",
    "sgpa_distribution.columns = ['SGPA Range', 'Number of Students']\n",
    "\n",
    "# Create pie chart\n",
    "fig = px.pie(\n",
    "    sgpa_distribution, \n",
    "    values='Number of Students', \n",
    "    names='SGPA Range',\n",
    "    title='Distribution of Students by SGPA Range (Semester 8)',\n",
    "    color_discrete_sequence=px.colors.sequential.RdBu,\n",
    "    hole=0.3\n",
    ")\n",
    "\n",
    "# Update layout for better readability\n",
    "fig.update_traces(textposition='inside', textinfo='percent+label')\n",
    "fig.update_layout(\n",
    "    legend_title=\"SGPA Range\",\n",
    "    font=dict(size=12)\n",
    ")\n",
    "\n",
    "fig.show()\n"
   ],
   "id": "c4dd5387ee61af46",
   "outputs": [
    {
     "data": {
      "application/vnd.plotly.v1+json": {
       "data": [
        {
         "domain": {
          "x": [
           0.0,
           1.0
          ],
          "y": [
           0.0,
           1.0
          ]
         },
         "hole": 0.3,
         "hovertemplate": "SGPA Range=%{label}<br>Number of Students=%{value}<extra></extra>",
         "labels": [
          "9-10",
          "8-9",
          "7-8",
          "6-7",
          "5-6",
          "Below 5"
         ],
         "legendgroup": "",
         "name": "",
         "showlegend": true,
         "values": {
          "dtype": "i1",
          "bdata": "CQgFAQAA"
         },
         "type": "pie",
         "textinfo": "percent+label",
         "textposition": "inside"
        }
       ],
       "layout": {
        "template": {
         "data": {
          "histogram2dcontour": [
           {
            "type": "histogram2dcontour",
            "colorbar": {
             "outlinewidth": 0,
             "ticks": ""
            },
            "colorscale": [
             [
              0.0,
              "#0d0887"
             ],
             [
              0.1111111111111111,
              "#46039f"
             ],
             [
              0.2222222222222222,
              "#7201a8"
             ],
             [
              0.3333333333333333,
              "#9c179e"
             ],
             [
              0.4444444444444444,
              "#bd3786"
             ],
             [
              0.5555555555555556,
              "#d8576b"
             ],
             [
              0.6666666666666666,
              "#ed7953"
             ],
             [
              0.7777777777777778,
              "#fb9f3a"
             ],
             [
              0.8888888888888888,
              "#fdca26"
             ],
             [
              1.0,
              "#f0f921"
             ]
            ]
           }
          ],
          "choropleth": [
           {
            "type": "choropleth",
            "colorbar": {
             "outlinewidth": 0,
             "ticks": ""
            }
           }
          ],
          "histogram2d": [
           {
            "type": "histogram2d",
            "colorbar": {
             "outlinewidth": 0,
             "ticks": ""
            },
            "colorscale": [
             [
              0.0,
              "#0d0887"
             ],
             [
              0.1111111111111111,
              "#46039f"
             ],
             [
              0.2222222222222222,
              "#7201a8"
             ],
             [
              0.3333333333333333,
              "#9c179e"
             ],
             [
              0.4444444444444444,
              "#bd3786"
             ],
             [
              0.5555555555555556,
              "#d8576b"
             ],
             [
              0.6666666666666666,
              "#ed7953"
             ],
             [
              0.7777777777777778,
              "#fb9f3a"
             ],
             [
              0.8888888888888888,
              "#fdca26"
             ],
             [
              1.0,
              "#f0f921"
             ]
            ]
           }
          ],
          "heatmap": [
           {
            "type": "heatmap",
            "colorbar": {
             "outlinewidth": 0,
             "ticks": ""
            },
            "colorscale": [
             [
              0.0,
              "#0d0887"
             ],
             [
              0.1111111111111111,
              "#46039f"
             ],
             [
              0.2222222222222222,
              "#7201a8"
             ],
             [
              0.3333333333333333,
              "#9c179e"
             ],
             [
              0.4444444444444444,
              "#bd3786"
             ],
             [
              0.5555555555555556,
              "#d8576b"
             ],
             [
              0.6666666666666666,
              "#ed7953"
             ],
             [
              0.7777777777777778,
              "#fb9f3a"
             ],
             [
              0.8888888888888888,
              "#fdca26"
             ],
             [
              1.0,
              "#f0f921"
             ]
            ]
           }
          ],
          "contourcarpet": [
           {
            "type": "contourcarpet",
            "colorbar": {
             "outlinewidth": 0,
             "ticks": ""
            }
           }
          ],
          "contour": [
           {
            "type": "contour",
            "colorbar": {
             "outlinewidth": 0,
             "ticks": ""
            },
            "colorscale": [
             [
              0.0,
              "#0d0887"
             ],
             [
              0.1111111111111111,
              "#46039f"
             ],
             [
              0.2222222222222222,
              "#7201a8"
             ],
             [
              0.3333333333333333,
              "#9c179e"
             ],
             [
              0.4444444444444444,
              "#bd3786"
             ],
             [
              0.5555555555555556,
              "#d8576b"
             ],
             [
              0.6666666666666666,
              "#ed7953"
             ],
             [
              0.7777777777777778,
              "#fb9f3a"
             ],
             [
              0.8888888888888888,
              "#fdca26"
             ],
             [
              1.0,
              "#f0f921"
             ]
            ]
           }
          ],
          "surface": [
           {
            "type": "surface",
            "colorbar": {
             "outlinewidth": 0,
             "ticks": ""
            },
            "colorscale": [
             [
              0.0,
              "#0d0887"
             ],
             [
              0.1111111111111111,
              "#46039f"
             ],
             [
              0.2222222222222222,
              "#7201a8"
             ],
             [
              0.3333333333333333,
              "#9c179e"
             ],
             [
              0.4444444444444444,
              "#bd3786"
             ],
             [
              0.5555555555555556,
              "#d8576b"
             ],
             [
              0.6666666666666666,
              "#ed7953"
             ],
             [
              0.7777777777777778,
              "#fb9f3a"
             ],
             [
              0.8888888888888888,
              "#fdca26"
             ],
             [
              1.0,
              "#f0f921"
             ]
            ]
           }
          ],
          "mesh3d": [
           {
            "type": "mesh3d",
            "colorbar": {
             "outlinewidth": 0,
             "ticks": ""
            }
           }
          ],
          "scatter": [
           {
            "marker": {
             "line": {
              "color": "#283442"
             }
            },
            "type": "scatter"
           }
          ],
          "parcoords": [
           {
            "type": "parcoords",
            "line": {
             "colorbar": {
              "outlinewidth": 0,
              "ticks": ""
             }
            }
           }
          ],
          "scatterpolargl": [
           {
            "type": "scatterpolargl",
            "marker": {
             "colorbar": {
              "outlinewidth": 0,
              "ticks": ""
             }
            }
           }
          ],
          "bar": [
           {
            "error_x": {
             "color": "#f2f5fa"
            },
            "error_y": {
             "color": "#f2f5fa"
            },
            "marker": {
             "line": {
              "color": "rgb(17,17,17)",
              "width": 0.5
             },
             "pattern": {
              "fillmode": "overlay",
              "size": 10,
              "solidity": 0.2
             }
            },
            "type": "bar"
           }
          ],
          "scattergeo": [
           {
            "type": "scattergeo",
            "marker": {
             "colorbar": {
              "outlinewidth": 0,
              "ticks": ""
             }
            }
           }
          ],
          "scatterpolar": [
           {
            "type": "scatterpolar",
            "marker": {
             "colorbar": {
              "outlinewidth": 0,
              "ticks": ""
             }
            }
           }
          ],
          "histogram": [
           {
            "marker": {
             "pattern": {
              "fillmode": "overlay",
              "size": 10,
              "solidity": 0.2
             }
            },
            "type": "histogram"
           }
          ],
          "scattergl": [
           {
            "marker": {
             "line": {
              "color": "#283442"
             }
            },
            "type": "scattergl"
           }
          ],
          "scatter3d": [
           {
            "type": "scatter3d",
            "line": {
             "colorbar": {
              "outlinewidth": 0,
              "ticks": ""
             }
            },
            "marker": {
             "colorbar": {
              "outlinewidth": 0,
              "ticks": ""
             }
            }
           }
          ],
          "scattermap": [
           {
            "type": "scattermap",
            "marker": {
             "colorbar": {
              "outlinewidth": 0,
              "ticks": ""
             }
            }
           }
          ],
          "scattermapbox": [
           {
            "type": "scattermapbox",
            "marker": {
             "colorbar": {
              "outlinewidth": 0,
              "ticks": ""
             }
            }
           }
          ],
          "scatterternary": [
           {
            "type": "scatterternary",
            "marker": {
             "colorbar": {
              "outlinewidth": 0,
              "ticks": ""
             }
            }
           }
          ],
          "scattercarpet": [
           {
            "type": "scattercarpet",
            "marker": {
             "colorbar": {
              "outlinewidth": 0,
              "ticks": ""
             }
            }
           }
          ],
          "carpet": [
           {
            "aaxis": {
             "endlinecolor": "#A2B1C6",
             "gridcolor": "#506784",
             "linecolor": "#506784",
             "minorgridcolor": "#506784",
             "startlinecolor": "#A2B1C6"
            },
            "baxis": {
             "endlinecolor": "#A2B1C6",
             "gridcolor": "#506784",
             "linecolor": "#506784",
             "minorgridcolor": "#506784",
             "startlinecolor": "#A2B1C6"
            },
            "type": "carpet"
           }
          ],
          "table": [
           {
            "cells": {
             "fill": {
              "color": "#506784"
             },
             "line": {
              "color": "rgb(17,17,17)"
             }
            },
            "header": {
             "fill": {
              "color": "#2a3f5f"
             },
             "line": {
              "color": "rgb(17,17,17)"
             }
            },
            "type": "table"
           }
          ],
          "barpolar": [
           {
            "marker": {
             "line": {
              "color": "rgb(17,17,17)",
              "width": 0.5
             },
             "pattern": {
              "fillmode": "overlay",
              "size": 10,
              "solidity": 0.2
             }
            },
            "type": "barpolar"
           }
          ],
          "pie": [
           {
            "automargin": true,
            "type": "pie"
           }
          ]
         },
         "layout": {
          "autotypenumbers": "strict",
          "colorway": [
           "#636efa",
           "#EF553B",
           "#00cc96",
           "#ab63fa",
           "#FFA15A",
           "#19d3f3",
           "#FF6692",
           "#B6E880",
           "#FF97FF",
           "#FECB52"
          ],
          "font": {
           "color": "#f2f5fa"
          },
          "hovermode": "closest",
          "hoverlabel": {
           "align": "left"
          },
          "paper_bgcolor": "rgb(17,17,17)",
          "plot_bgcolor": "rgb(17,17,17)",
          "polar": {
           "bgcolor": "rgb(17,17,17)",
           "angularaxis": {
            "gridcolor": "#506784",
            "linecolor": "#506784",
            "ticks": ""
           },
           "radialaxis": {
            "gridcolor": "#506784",
            "linecolor": "#506784",
            "ticks": ""
           }
          },
          "ternary": {
           "bgcolor": "rgb(17,17,17)",
           "aaxis": {
            "gridcolor": "#506784",
            "linecolor": "#506784",
            "ticks": ""
           },
           "baxis": {
            "gridcolor": "#506784",
            "linecolor": "#506784",
            "ticks": ""
           },
           "caxis": {
            "gridcolor": "#506784",
            "linecolor": "#506784",
            "ticks": ""
           }
          },
          "coloraxis": {
           "colorbar": {
            "outlinewidth": 0,
            "ticks": ""
           }
          },
          "colorscale": {
           "sequential": [
            [
             0.0,
             "#0d0887"
            ],
            [
             0.1111111111111111,
             "#46039f"
            ],
            [
             0.2222222222222222,
             "#7201a8"
            ],
            [
             0.3333333333333333,
             "#9c179e"
            ],
            [
             0.4444444444444444,
             "#bd3786"
            ],
            [
             0.5555555555555556,
             "#d8576b"
            ],
            [
             0.6666666666666666,
             "#ed7953"
            ],
            [
             0.7777777777777778,
             "#fb9f3a"
            ],
            [
             0.8888888888888888,
             "#fdca26"
            ],
            [
             1.0,
             "#f0f921"
            ]
           ],
           "sequentialminus": [
            [
             0.0,
             "#0d0887"
            ],
            [
             0.1111111111111111,
             "#46039f"
            ],
            [
             0.2222222222222222,
             "#7201a8"
            ],
            [
             0.3333333333333333,
             "#9c179e"
            ],
            [
             0.4444444444444444,
             "#bd3786"
            ],
            [
             0.5555555555555556,
             "#d8576b"
            ],
            [
             0.6666666666666666,
             "#ed7953"
            ],
            [
             0.7777777777777778,
             "#fb9f3a"
            ],
            [
             0.8888888888888888,
             "#fdca26"
            ],
            [
             1.0,
             "#f0f921"
            ]
           ],
           "diverging": [
            [
             0,
             "#8e0152"
            ],
            [
             0.1,
             "#c51b7d"
            ],
            [
             0.2,
             "#de77ae"
            ],
            [
             0.3,
             "#f1b6da"
            ],
            [
             0.4,
             "#fde0ef"
            ],
            [
             0.5,
             "#f7f7f7"
            ],
            [
             0.6,
             "#e6f5d0"
            ],
            [
             0.7,
             "#b8e186"
            ],
            [
             0.8,
             "#7fbc41"
            ],
            [
             0.9,
             "#4d9221"
            ],
            [
             1,
             "#276419"
            ]
           ]
          },
          "xaxis": {
           "gridcolor": "#283442",
           "linecolor": "#506784",
           "ticks": "",
           "title": {
            "standoff": 15
           },
           "zerolinecolor": "#283442",
           "automargin": true,
           "zerolinewidth": 2
          },
          "yaxis": {
           "gridcolor": "#283442",
           "linecolor": "#506784",
           "ticks": "",
           "title": {
            "standoff": 15
           },
           "zerolinecolor": "#283442",
           "automargin": true,
           "zerolinewidth": 2
          },
          "scene": {
           "xaxis": {
            "backgroundcolor": "rgb(17,17,17)",
            "gridcolor": "#506784",
            "linecolor": "#506784",
            "showbackground": true,
            "ticks": "",
            "zerolinecolor": "#C8D4E3",
            "gridwidth": 2
           },
           "yaxis": {
            "backgroundcolor": "rgb(17,17,17)",
            "gridcolor": "#506784",
            "linecolor": "#506784",
            "showbackground": true,
            "ticks": "",
            "zerolinecolor": "#C8D4E3",
            "gridwidth": 2
           },
           "zaxis": {
            "backgroundcolor": "rgb(17,17,17)",
            "gridcolor": "#506784",
            "linecolor": "#506784",
            "showbackground": true,
            "ticks": "",
            "zerolinecolor": "#C8D4E3",
            "gridwidth": 2
           }
          },
          "shapedefaults": {
           "line": {
            "color": "#f2f5fa"
           }
          },
          "annotationdefaults": {
           "arrowcolor": "#f2f5fa",
           "arrowhead": 0,
           "arrowwidth": 1
          },
          "geo": {
           "bgcolor": "rgb(17,17,17)",
           "landcolor": "rgb(17,17,17)",
           "subunitcolor": "#506784",
           "showland": true,
           "showlakes": true,
           "lakecolor": "rgb(17,17,17)"
          },
          "title": {
           "x": 0.05
          },
          "updatemenudefaults": {
           "bgcolor": "#506784",
           "borderwidth": 0
          },
          "sliderdefaults": {
           "bgcolor": "#C8D4E3",
           "borderwidth": 1,
           "bordercolor": "rgb(17,17,17)",
           "tickwidth": 0
          },
          "mapbox": {
           "style": "dark"
          }
         }
        },
        "legend": {
         "tracegroupgap": 0,
         "title": {
          "text": "SGPA Range"
         }
        },
        "title": {
         "text": "Distribution of Students by SGPA Range (Semester 8)"
        },
        "piecolorway": [
         "rgb(103,0,31)",
         "rgb(178,24,43)",
         "rgb(214,96,77)",
         "rgb(244,165,130)",
         "rgb(253,219,199)",
         "rgb(247,247,247)",
         "rgb(209,229,240)",
         "rgb(146,197,222)",
         "rgb(67,147,195)",
         "rgb(33,102,172)",
         "rgb(5,48,97)"
        ],
        "font": {
         "size": 12
        }
       },
       "config": {
        "plotlyServerURL": "https://plot.ly"
       }
      }
     },
     "metadata": {},
     "output_type": "display_data"
    }
   ],
   "execution_count": 34
  },
  {
   "metadata": {},
   "cell_type": "code",
   "outputs": [],
   "execution_count": null,
   "source": "",
   "id": "fb4a3f479b8d0f0d"
  }
 ],
 "metadata": {
  "kernelspec": {
   "display_name": "Python 3",
   "language": "python",
   "name": "python3"
  },
  "language_info": {
   "codemirror_mode": {
    "name": "ipython",
    "version": 2
   },
   "file_extension": ".py",
   "mimetype": "text/x-python",
   "name": "python",
   "nbconvert_exporter": "python",
   "pygments_lexer": "ipython2",
   "version": "2.7.6"
  }
 },
 "nbformat": 4,
 "nbformat_minor": 5
}
